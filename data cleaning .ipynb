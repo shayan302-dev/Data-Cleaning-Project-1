{
 "cells": [
  {
   "cell_type": "code",
   "execution_count": 1,
   "id": "f4ab2fb3-742a-4e23-84fd-f5bba93c12ac",
   "metadata": {},
   "outputs": [
    {
     "data": {
      "text/html": [
       "<div>\n",
       "<style scoped>\n",
       "    .dataframe tbody tr th:only-of-type {\n",
       "        vertical-align: middle;\n",
       "    }\n",
       "\n",
       "    .dataframe tbody tr th {\n",
       "        vertical-align: top;\n",
       "    }\n",
       "\n",
       "    .dataframe thead th {\n",
       "        text-align: right;\n",
       "    }\n",
       "</style>\n",
       "<table border=\"1\" class=\"dataframe\">\n",
       "  <thead>\n",
       "    <tr style=\"text-align: right;\">\n",
       "      <th></th>\n",
       "      <th>Company</th>\n",
       "      <th>Revenue ($M)</th>\n",
       "      <th>Profit Margin (%)</th>\n",
       "      <th>Industry</th>\n",
       "      <th>CEO</th>\n",
       "      <th>Employees</th>\n",
       "      <th>Stock Price</th>\n",
       "      <th>HQ City</th>\n",
       "      <th>Founded Year</th>\n",
       "      <th>Market Cap ($B)</th>\n",
       "      <th>Ticker Symbol</th>\n",
       "      <th>Debt ($M)</th>\n",
       "    </tr>\n",
       "  </thead>\n",
       "  <tbody>\n",
       "    <tr>\n",
       "      <th>0</th>\n",
       "      <td>ABC Corp</td>\n",
       "      <td>100.0</td>\n",
       "      <td>10.0</td>\n",
       "      <td>Banking</td>\n",
       "      <td>John Doe</td>\n",
       "      <td>500.0</td>\n",
       "      <td>50.5</td>\n",
       "      <td>New York</td>\n",
       "      <td>1990.0</td>\n",
       "      <td>2.5</td>\n",
       "      <td>ABC</td>\n",
       "      <td>500.0</td>\n",
       "    </tr>\n",
       "    <tr>\n",
       "      <th>1</th>\n",
       "      <td>XYZ Inc</td>\n",
       "      <td>200.0</td>\n",
       "      <td>-5.0</td>\n",
       "      <td>Insurance</td>\n",
       "      <td>Jane Smith</td>\n",
       "      <td>NaN</td>\n",
       "      <td>NaN</td>\n",
       "      <td>London</td>\n",
       "      <td>1985.0</td>\n",
       "      <td>5.0</td>\n",
       "      <td>XYZ</td>\n",
       "      <td>NaN</td>\n",
       "    </tr>\n",
       "    <tr>\n",
       "      <th>2</th>\n",
       "      <td>PQR Ltd</td>\n",
       "      <td>NaN</td>\n",
       "      <td>NaN</td>\n",
       "      <td>Banking</td>\n",
       "      <td>Alan Brown</td>\n",
       "      <td>120.0</td>\n",
       "      <td>40.0</td>\n",
       "      <td>None</td>\n",
       "      <td>2000.0</td>\n",
       "      <td>1.2</td>\n",
       "      <td>None</td>\n",
       "      <td>300.0</td>\n",
       "    </tr>\n",
       "    <tr>\n",
       "      <th>3</th>\n",
       "      <td>123 Corp</td>\n",
       "      <td>150.0</td>\n",
       "      <td>8.0</td>\n",
       "      <td>Investment</td>\n",
       "      <td>Mark Lee</td>\n",
       "      <td>450.0</td>\n",
       "      <td>NaN</td>\n",
       "      <td>Toronto</td>\n",
       "      <td>NaN</td>\n",
       "      <td>3.0</td>\n",
       "      <td>123</td>\n",
       "      <td>NaN</td>\n",
       "    </tr>\n",
       "    <tr>\n",
       "      <th>4</th>\n",
       "      <td>None</td>\n",
       "      <td>100.0</td>\n",
       "      <td>20.0</td>\n",
       "      <td>Insurance</td>\n",
       "      <td>None</td>\n",
       "      <td>700.0</td>\n",
       "      <td>25.0</td>\n",
       "      <td>Paris</td>\n",
       "      <td>1995.0</td>\n",
       "      <td>1.5</td>\n",
       "      <td>INS</td>\n",
       "      <td>200.0</td>\n",
       "    </tr>\n",
       "    <tr>\n",
       "      <th>5</th>\n",
       "      <td>ABC Corp</td>\n",
       "      <td>200.0</td>\n",
       "      <td>5.0</td>\n",
       "      <td>NaN</td>\n",
       "      <td>John Doe</td>\n",
       "      <td>500.0</td>\n",
       "      <td>50.5</td>\n",
       "      <td>New York</td>\n",
       "      <td>1990.0</td>\n",
       "      <td>NaN</td>\n",
       "      <td>ABC</td>\n",
       "      <td>500.0</td>\n",
       "    </tr>\n",
       "    <tr>\n",
       "      <th>6</th>\n",
       "      <td>LMN Inc</td>\n",
       "      <td>300.0</td>\n",
       "      <td>25.0</td>\n",
       "      <td>Banking</td>\n",
       "      <td>Sarah Davis</td>\n",
       "      <td>NaN</td>\n",
       "      <td>60.0</td>\n",
       "      <td>New York</td>\n",
       "      <td>NaN</td>\n",
       "      <td>4.0</td>\n",
       "      <td>LMN</td>\n",
       "      <td>NaN</td>\n",
       "    </tr>\n",
       "  </tbody>\n",
       "</table>\n",
       "</div>"
      ],
      "text/plain": [
       "    Company  Revenue ($M)  Profit Margin (%)    Industry          CEO  \\\n",
       "0  ABC Corp         100.0               10.0     Banking     John Doe   \n",
       "1   XYZ Inc         200.0               -5.0   Insurance   Jane Smith   \n",
       "2   PQR Ltd           NaN                NaN     Banking   Alan Brown   \n",
       "3  123 Corp         150.0                8.0  Investment     Mark Lee   \n",
       "4      None         100.0               20.0   Insurance         None   \n",
       "5  ABC Corp         200.0                5.0         NaN     John Doe   \n",
       "6   LMN Inc         300.0               25.0     Banking  Sarah Davis   \n",
       "\n",
       "   Employees  Stock Price   HQ City  Founded Year  Market Cap ($B)  \\\n",
       "0      500.0         50.5  New York        1990.0              2.5   \n",
       "1        NaN          NaN    London        1985.0              5.0   \n",
       "2      120.0         40.0      None        2000.0              1.2   \n",
       "3      450.0          NaN   Toronto           NaN              3.0   \n",
       "4      700.0         25.0     Paris        1995.0              1.5   \n",
       "5      500.0         50.5  New York        1990.0              NaN   \n",
       "6        NaN         60.0  New York           NaN              4.0   \n",
       "\n",
       "  Ticker Symbol  Debt ($M)  \n",
       "0           ABC      500.0  \n",
       "1           XYZ        NaN  \n",
       "2          None      300.0  \n",
       "3           123        NaN  \n",
       "4           INS      200.0  \n",
       "5           ABC      500.0  \n",
       "6           LMN        NaN  "
      ]
     },
     "execution_count": 1,
     "metadata": {},
     "output_type": "execute_result"
    }
   ],
   "source": [
    "# Importing the libraries for data cleaning use to clean this data\n",
    "import pandas as pd\n",
    "import numpy as np\n",
    "data = {\n",
    "    'Company': ['ABC Corp', 'XYZ Inc', 'PQR Ltd', '123 Corp', None, 'ABC Corp', 'LMN Inc'],\n",
    "    'Revenue ($M)': [100, 200, np.nan, 150, 100, 200, 300],\n",
    "    'Profit Margin (%)': [10, -5, None, 8, 20, 5, 25],\n",
    "    'Industry': ['Banking', 'Insurance', 'Banking', 'Investment', 'Insurance', np.nan, 'Banking'],\n",
    "    'CEO': ['John Doe', 'Jane Smith', 'Alan Brown', 'Mark Lee', None, 'John Doe', 'Sarah Davis'],\n",
    "    'Employees': [500, None, 120, 450, 700, 500, np.nan],\n",
    "    'Stock Price': [50.5, None, 40.0, np.nan, 25.0, 50.5, 60.0],\n",
    "    'HQ City': ['New York', 'London', None, 'Toronto', 'Paris', 'New York', 'New York'],\n",
    "    'Founded Year': [1990, 1985, 2000, np.nan, 1995, 1990, None],\n",
    "    'Market Cap ($B)': [2.5, 5.0, 1.2, 3.0, 1.5, None, 4.0],\n",
    "    'Ticker Symbol': ['ABC', 'XYZ', None, '123', 'INS', 'ABC', 'LMN'],\n",
    "    'Debt ($M)': [500, None, 300, np.nan, 200, 500, None]\n",
    "}\n",
    "# Converting the data into Data Frame\n",
    "df = pd.DataFrame(data)\n",
    "df"
   ]
  },
  {
   "cell_type": "code",
   "execution_count": 2,
   "id": "62eeb2de-36b6-4fd9-b6bc-aa40864d0fff",
   "metadata": {},
   "outputs": [
    {
     "data": {
      "text/html": [
       "<div>\n",
       "<style scoped>\n",
       "    .dataframe tbody tr th:only-of-type {\n",
       "        vertical-align: middle;\n",
       "    }\n",
       "\n",
       "    .dataframe tbody tr th {\n",
       "        vertical-align: top;\n",
       "    }\n",
       "\n",
       "    .dataframe thead th {\n",
       "        text-align: right;\n",
       "    }\n",
       "</style>\n",
       "<table border=\"1\" class=\"dataframe\">\n",
       "  <thead>\n",
       "    <tr style=\"text-align: right;\">\n",
       "      <th></th>\n",
       "      <th>Company</th>\n",
       "      <th>Revenue ($M)</th>\n",
       "      <th>Profit Margin (%)</th>\n",
       "      <th>Industry</th>\n",
       "      <th>CEO</th>\n",
       "      <th>Employees</th>\n",
       "      <th>Stock Price</th>\n",
       "      <th>HQ City</th>\n",
       "      <th>Founded Year</th>\n",
       "      <th>Market Cap ($B)</th>\n",
       "      <th>Ticker Symbol</th>\n",
       "      <th>Debt ($M)</th>\n",
       "    </tr>\n",
       "  </thead>\n",
       "  <tbody>\n",
       "    <tr>\n",
       "      <th>0</th>\n",
       "      <td>ABC Corp</td>\n",
       "      <td>100.0</td>\n",
       "      <td>10.0</td>\n",
       "      <td>Banking</td>\n",
       "      <td>John Doe</td>\n",
       "      <td>500.0</td>\n",
       "      <td>50.5</td>\n",
       "      <td>New York</td>\n",
       "      <td>1990.0</td>\n",
       "      <td>2.5</td>\n",
       "      <td>ABC</td>\n",
       "      <td>500.0</td>\n",
       "    </tr>\n",
       "    <tr>\n",
       "      <th>1</th>\n",
       "      <td>XYZ Inc</td>\n",
       "      <td>200.0</td>\n",
       "      <td>-5.0</td>\n",
       "      <td>Insurance</td>\n",
       "      <td>Jane Smith</td>\n",
       "      <td>NaN</td>\n",
       "      <td>NaN</td>\n",
       "      <td>London</td>\n",
       "      <td>1985.0</td>\n",
       "      <td>5.0</td>\n",
       "      <td>XYZ</td>\n",
       "      <td>NaN</td>\n",
       "    </tr>\n",
       "    <tr>\n",
       "      <th>2</th>\n",
       "      <td>PQR Ltd</td>\n",
       "      <td>NaN</td>\n",
       "      <td>NaN</td>\n",
       "      <td>Banking</td>\n",
       "      <td>Alan Brown</td>\n",
       "      <td>120.0</td>\n",
       "      <td>40.0</td>\n",
       "      <td>None</td>\n",
       "      <td>2000.0</td>\n",
       "      <td>1.2</td>\n",
       "      <td>None</td>\n",
       "      <td>300.0</td>\n",
       "    </tr>\n",
       "    <tr>\n",
       "      <th>3</th>\n",
       "      <td>123 Corp</td>\n",
       "      <td>150.0</td>\n",
       "      <td>8.0</td>\n",
       "      <td>Investment</td>\n",
       "      <td>Mark Lee</td>\n",
       "      <td>450.0</td>\n",
       "      <td>NaN</td>\n",
       "      <td>Toronto</td>\n",
       "      <td>NaN</td>\n",
       "      <td>3.0</td>\n",
       "      <td>123</td>\n",
       "      <td>NaN</td>\n",
       "    </tr>\n",
       "    <tr>\n",
       "      <th>4</th>\n",
       "      <td>None</td>\n",
       "      <td>100.0</td>\n",
       "      <td>20.0</td>\n",
       "      <td>Insurance</td>\n",
       "      <td>None</td>\n",
       "      <td>700.0</td>\n",
       "      <td>25.0</td>\n",
       "      <td>Paris</td>\n",
       "      <td>1995.0</td>\n",
       "      <td>1.5</td>\n",
       "      <td>INS</td>\n",
       "      <td>200.0</td>\n",
       "    </tr>\n",
       "    <tr>\n",
       "      <th>5</th>\n",
       "      <td>ABC Corp</td>\n",
       "      <td>200.0</td>\n",
       "      <td>5.0</td>\n",
       "      <td>NaN</td>\n",
       "      <td>John Doe</td>\n",
       "      <td>500.0</td>\n",
       "      <td>50.5</td>\n",
       "      <td>New York</td>\n",
       "      <td>1990.0</td>\n",
       "      <td>NaN</td>\n",
       "      <td>ABC</td>\n",
       "      <td>500.0</td>\n",
       "    </tr>\n",
       "    <tr>\n",
       "      <th>6</th>\n",
       "      <td>LMN Inc</td>\n",
       "      <td>300.0</td>\n",
       "      <td>25.0</td>\n",
       "      <td>Banking</td>\n",
       "      <td>Sarah Davis</td>\n",
       "      <td>NaN</td>\n",
       "      <td>60.0</td>\n",
       "      <td>New York</td>\n",
       "      <td>NaN</td>\n",
       "      <td>4.0</td>\n",
       "      <td>LMN</td>\n",
       "      <td>NaN</td>\n",
       "    </tr>\n",
       "  </tbody>\n",
       "</table>\n",
       "</div>"
      ],
      "text/plain": [
       "    Company  Revenue ($M)  Profit Margin (%)    Industry          CEO  \\\n",
       "0  ABC Corp         100.0               10.0     Banking     John Doe   \n",
       "1   XYZ Inc         200.0               -5.0   Insurance   Jane Smith   \n",
       "2   PQR Ltd           NaN                NaN     Banking   Alan Brown   \n",
       "3  123 Corp         150.0                8.0  Investment     Mark Lee   \n",
       "4      None         100.0               20.0   Insurance         None   \n",
       "5  ABC Corp         200.0                5.0         NaN     John Doe   \n",
       "6   LMN Inc         300.0               25.0     Banking  Sarah Davis   \n",
       "\n",
       "   Employees  Stock Price   HQ City  Founded Year  Market Cap ($B)  \\\n",
       "0      500.0         50.5  New York        1990.0              2.5   \n",
       "1        NaN          NaN    London        1985.0              5.0   \n",
       "2      120.0         40.0      None        2000.0              1.2   \n",
       "3      450.0          NaN   Toronto           NaN              3.0   \n",
       "4      700.0         25.0     Paris        1995.0              1.5   \n",
       "5      500.0         50.5  New York        1990.0              NaN   \n",
       "6        NaN         60.0  New York           NaN              4.0   \n",
       "\n",
       "  Ticker Symbol  Debt ($M)  \n",
       "0           ABC      500.0  \n",
       "1           XYZ        NaN  \n",
       "2          None      300.0  \n",
       "3           123        NaN  \n",
       "4           INS      200.0  \n",
       "5           ABC      500.0  \n",
       "6           LMN        NaN  "
      ]
     },
     "execution_count": 2,
     "metadata": {},
     "output_type": "execute_result"
    }
   ],
   "source": [
    "#Making the copy of the data \n",
    "fd = df.copy()\n",
    "fd"
   ]
  },
  {
   "cell_type": "code",
   "execution_count": 3,
   "id": "b0a18d8e-0ac1-4ae0-b810-19ae85e883cb",
   "metadata": {},
   "outputs": [
    {
     "name": "stdout",
     "output_type": "stream",
     "text": [
      "<class 'pandas.core.frame.DataFrame'>\n",
      "RangeIndex: 7 entries, 0 to 6\n",
      "Data columns (total 12 columns):\n",
      " #   Column             Non-Null Count  Dtype  \n",
      "---  ------             --------------  -----  \n",
      " 0   Company            6 non-null      object \n",
      " 1   Revenue ($M)       6 non-null      float64\n",
      " 2   Profit Margin (%)  6 non-null      float64\n",
      " 3   Industry           6 non-null      object \n",
      " 4   CEO                6 non-null      object \n",
      " 5   Employees          5 non-null      float64\n",
      " 6   Stock Price        5 non-null      float64\n",
      " 7   HQ City            6 non-null      object \n",
      " 8   Founded Year       5 non-null      float64\n",
      " 9   Market Cap ($B)    6 non-null      float64\n",
      " 10  Ticker Symbol      6 non-null      object \n",
      " 11  Debt ($M)          4 non-null      float64\n",
      "dtypes: float64(7), object(5)\n",
      "memory usage: 804.0+ bytes\n"
     ]
    }
   ],
   "source": [
    "fd.info()"
   ]
  },
  {
   "cell_type": "markdown",
   "id": "3f1763a2-9683-4491-b780-b739ed8f8fb1",
   "metadata": {
    "jp-MarkdownHeadingCollapsed": true
   },
   "source": [
    "### Company Column Cleaning "
   ]
  },
  {
   "cell_type": "code",
   "execution_count": 4,
   "id": "38785d98-b2bb-426c-8f51-777955f4ffb0",
   "metadata": {},
   "outputs": [
    {
     "data": {
      "text/plain": [
       "np.int64(1)"
      ]
     },
     "execution_count": 4,
     "metadata": {},
     "output_type": "execute_result"
    }
   ],
   "source": [
    "# Checking the Duplicates in the data of company column\n",
    "fd['Company'].duplicated().sum()"
   ]
  },
  {
   "cell_type": "code",
   "execution_count": 5,
   "id": "3a7f79d3-5b0f-476e-b464-06bb1e7d459b",
   "metadata": {},
   "outputs": [
    {
     "data": {
      "text/html": [
       "<div>\n",
       "<style scoped>\n",
       "    .dataframe tbody tr th:only-of-type {\n",
       "        vertical-align: middle;\n",
       "    }\n",
       "\n",
       "    .dataframe tbody tr th {\n",
       "        vertical-align: top;\n",
       "    }\n",
       "\n",
       "    .dataframe thead th {\n",
       "        text-align: right;\n",
       "    }\n",
       "</style>\n",
       "<table border=\"1\" class=\"dataframe\">\n",
       "  <thead>\n",
       "    <tr style=\"text-align: right;\">\n",
       "      <th></th>\n",
       "      <th>Company</th>\n",
       "      <th>Revenue ($M)</th>\n",
       "      <th>Profit Margin (%)</th>\n",
       "      <th>Industry</th>\n",
       "      <th>CEO</th>\n",
       "      <th>Employees</th>\n",
       "      <th>Stock Price</th>\n",
       "      <th>HQ City</th>\n",
       "      <th>Founded Year</th>\n",
       "      <th>Market Cap ($B)</th>\n",
       "      <th>Ticker Symbol</th>\n",
       "      <th>Debt ($M)</th>\n",
       "    </tr>\n",
       "  </thead>\n",
       "  <tbody>\n",
       "    <tr>\n",
       "      <th>0</th>\n",
       "      <td>ABC Corp</td>\n",
       "      <td>100.0</td>\n",
       "      <td>10.0</td>\n",
       "      <td>Banking</td>\n",
       "      <td>John Doe</td>\n",
       "      <td>500.0</td>\n",
       "      <td>50.5</td>\n",
       "      <td>New York</td>\n",
       "      <td>1990.0</td>\n",
       "      <td>2.5</td>\n",
       "      <td>ABC</td>\n",
       "      <td>500.0</td>\n",
       "    </tr>\n",
       "    <tr>\n",
       "      <th>5</th>\n",
       "      <td>ABC Corp</td>\n",
       "      <td>200.0</td>\n",
       "      <td>5.0</td>\n",
       "      <td>NaN</td>\n",
       "      <td>John Doe</td>\n",
       "      <td>500.0</td>\n",
       "      <td>50.5</td>\n",
       "      <td>New York</td>\n",
       "      <td>1990.0</td>\n",
       "      <td>NaN</td>\n",
       "      <td>ABC</td>\n",
       "      <td>500.0</td>\n",
       "    </tr>\n",
       "  </tbody>\n",
       "</table>\n",
       "</div>"
      ],
      "text/plain": [
       "    Company  Revenue ($M)  Profit Margin (%) Industry       CEO  Employees  \\\n",
       "0  ABC Corp         100.0               10.0  Banking  John Doe      500.0   \n",
       "5  ABC Corp         200.0                5.0      NaN  John Doe      500.0   \n",
       "\n",
       "   Stock Price   HQ City  Founded Year  Market Cap ($B) Ticker Symbol  \\\n",
       "0         50.5  New York        1990.0              2.5           ABC   \n",
       "5         50.5  New York        1990.0              NaN           ABC   \n",
       "\n",
       "   Debt ($M)  \n",
       "0      500.0  \n",
       "5      500.0  "
      ]
     },
     "execution_count": 5,
     "metadata": {},
     "output_type": "execute_result"
    }
   ],
   "source": [
    "# Seeing the which are the duplicates\n",
    "duplicates = fd[fd['Company'].duplicated(keep = False)]\n",
    "duplicates"
   ]
  },
  {
   "cell_type": "code",
   "execution_count": 6,
   "id": "c09d59cd-c74a-4ab5-8c21-68f7f1448635",
   "metadata": {},
   "outputs": [
    {
     "data": {
      "text/html": [
       "<div>\n",
       "<style scoped>\n",
       "    .dataframe tbody tr th:only-of-type {\n",
       "        vertical-align: middle;\n",
       "    }\n",
       "\n",
       "    .dataframe tbody tr th {\n",
       "        vertical-align: top;\n",
       "    }\n",
       "\n",
       "    .dataframe thead th {\n",
       "        text-align: right;\n",
       "    }\n",
       "</style>\n",
       "<table border=\"1\" class=\"dataframe\">\n",
       "  <thead>\n",
       "    <tr style=\"text-align: right;\">\n",
       "      <th></th>\n",
       "      <th>Company</th>\n",
       "      <th>Revenue ($M)</th>\n",
       "      <th>Profit Margin (%)</th>\n",
       "      <th>Industry</th>\n",
       "      <th>CEO</th>\n",
       "      <th>Employees</th>\n",
       "      <th>Stock Price</th>\n",
       "      <th>HQ City</th>\n",
       "      <th>Founded Year</th>\n",
       "      <th>Market Cap ($B)</th>\n",
       "      <th>Ticker Symbol</th>\n",
       "      <th>Debt ($M)</th>\n",
       "    </tr>\n",
       "  </thead>\n",
       "  <tbody>\n",
       "    <tr>\n",
       "      <th>0</th>\n",
       "      <td>ABC Corp</td>\n",
       "      <td>100.0</td>\n",
       "      <td>10.0</td>\n",
       "      <td>Banking</td>\n",
       "      <td>John Doe</td>\n",
       "      <td>500.0</td>\n",
       "      <td>50.5</td>\n",
       "      <td>New York</td>\n",
       "      <td>1990.0</td>\n",
       "      <td>2.5</td>\n",
       "      <td>ABC</td>\n",
       "      <td>500.0</td>\n",
       "    </tr>\n",
       "    <tr>\n",
       "      <th>1</th>\n",
       "      <td>XYZ Inc</td>\n",
       "      <td>200.0</td>\n",
       "      <td>-5.0</td>\n",
       "      <td>Insurance</td>\n",
       "      <td>Jane Smith</td>\n",
       "      <td>NaN</td>\n",
       "      <td>NaN</td>\n",
       "      <td>London</td>\n",
       "      <td>1985.0</td>\n",
       "      <td>5.0</td>\n",
       "      <td>XYZ</td>\n",
       "      <td>NaN</td>\n",
       "    </tr>\n",
       "    <tr>\n",
       "      <th>2</th>\n",
       "      <td>PQR Ltd</td>\n",
       "      <td>NaN</td>\n",
       "      <td>NaN</td>\n",
       "      <td>Banking</td>\n",
       "      <td>Alan Brown</td>\n",
       "      <td>120.0</td>\n",
       "      <td>40.0</td>\n",
       "      <td>None</td>\n",
       "      <td>2000.0</td>\n",
       "      <td>1.2</td>\n",
       "      <td>None</td>\n",
       "      <td>300.0</td>\n",
       "    </tr>\n",
       "    <tr>\n",
       "      <th>3</th>\n",
       "      <td>123 Corp</td>\n",
       "      <td>150.0</td>\n",
       "      <td>8.0</td>\n",
       "      <td>Investment</td>\n",
       "      <td>Mark Lee</td>\n",
       "      <td>450.0</td>\n",
       "      <td>NaN</td>\n",
       "      <td>Toronto</td>\n",
       "      <td>NaN</td>\n",
       "      <td>3.0</td>\n",
       "      <td>123</td>\n",
       "      <td>NaN</td>\n",
       "    </tr>\n",
       "    <tr>\n",
       "      <th>4</th>\n",
       "      <td>None</td>\n",
       "      <td>100.0</td>\n",
       "      <td>20.0</td>\n",
       "      <td>Insurance</td>\n",
       "      <td>None</td>\n",
       "      <td>700.0</td>\n",
       "      <td>25.0</td>\n",
       "      <td>Paris</td>\n",
       "      <td>1995.0</td>\n",
       "      <td>1.5</td>\n",
       "      <td>INS</td>\n",
       "      <td>200.0</td>\n",
       "    </tr>\n",
       "    <tr>\n",
       "      <th>5</th>\n",
       "      <td>TechCorp</td>\n",
       "      <td>200.0</td>\n",
       "      <td>5.0</td>\n",
       "      <td>NaN</td>\n",
       "      <td>John Doe</td>\n",
       "      <td>500.0</td>\n",
       "      <td>50.5</td>\n",
       "      <td>New York</td>\n",
       "      <td>1990.0</td>\n",
       "      <td>NaN</td>\n",
       "      <td>ABC</td>\n",
       "      <td>500.0</td>\n",
       "    </tr>\n",
       "    <tr>\n",
       "      <th>6</th>\n",
       "      <td>LMN Inc</td>\n",
       "      <td>300.0</td>\n",
       "      <td>25.0</td>\n",
       "      <td>Banking</td>\n",
       "      <td>Sarah Davis</td>\n",
       "      <td>NaN</td>\n",
       "      <td>60.0</td>\n",
       "      <td>New York</td>\n",
       "      <td>NaN</td>\n",
       "      <td>4.0</td>\n",
       "      <td>LMN</td>\n",
       "      <td>NaN</td>\n",
       "    </tr>\n",
       "  </tbody>\n",
       "</table>\n",
       "</div>"
      ],
      "text/plain": [
       "    Company  Revenue ($M)  Profit Margin (%)    Industry          CEO  \\\n",
       "0  ABC Corp         100.0               10.0     Banking     John Doe   \n",
       "1   XYZ Inc         200.0               -5.0   Insurance   Jane Smith   \n",
       "2   PQR Ltd           NaN                NaN     Banking   Alan Brown   \n",
       "3  123 Corp         150.0                8.0  Investment     Mark Lee   \n",
       "4      None         100.0               20.0   Insurance         None   \n",
       "5  TechCorp         200.0                5.0         NaN     John Doe   \n",
       "6   LMN Inc         300.0               25.0     Banking  Sarah Davis   \n",
       "\n",
       "   Employees  Stock Price   HQ City  Founded Year  Market Cap ($B)  \\\n",
       "0      500.0         50.5  New York        1990.0              2.5   \n",
       "1        NaN          NaN    London        1985.0              5.0   \n",
       "2      120.0         40.0      None        2000.0              1.2   \n",
       "3      450.0          NaN   Toronto           NaN              3.0   \n",
       "4      700.0         25.0     Paris        1995.0              1.5   \n",
       "5      500.0         50.5  New York        1990.0              NaN   \n",
       "6        NaN         60.0  New York           NaN              4.0   \n",
       "\n",
       "  Ticker Symbol  Debt ($M)  \n",
       "0           ABC      500.0  \n",
       "1           XYZ        NaN  \n",
       "2          None      300.0  \n",
       "3           123        NaN  \n",
       "4           INS      200.0  \n",
       "5           ABC      500.0  \n",
       "6           LMN        NaN  "
      ]
     },
     "execution_count": 6,
     "metadata": {},
     "output_type": "execute_result"
    }
   ],
   "source": [
    "# Changing or removing the duplicate at the index 5 of the Compnay Column\n",
    "fd.loc[5,'Company'] = \"TechCorp\"\n",
    "fd"
   ]
  },
  {
   "cell_type": "code",
   "execution_count": 7,
   "id": "956e6a6f-cb7c-4d84-b848-cd1a56fd90d1",
   "metadata": {},
   "outputs": [
    {
     "data": {
      "text/html": [
       "<div>\n",
       "<style scoped>\n",
       "    .dataframe tbody tr th:only-of-type {\n",
       "        vertical-align: middle;\n",
       "    }\n",
       "\n",
       "    .dataframe tbody tr th {\n",
       "        vertical-align: top;\n",
       "    }\n",
       "\n",
       "    .dataframe thead th {\n",
       "        text-align: right;\n",
       "    }\n",
       "</style>\n",
       "<table border=\"1\" class=\"dataframe\">\n",
       "  <thead>\n",
       "    <tr style=\"text-align: right;\">\n",
       "      <th></th>\n",
       "      <th>Company</th>\n",
       "      <th>Revenue ($M)</th>\n",
       "      <th>Profit Margin (%)</th>\n",
       "      <th>Industry</th>\n",
       "      <th>CEO</th>\n",
       "      <th>Employees</th>\n",
       "      <th>Stock Price</th>\n",
       "      <th>HQ City</th>\n",
       "      <th>Founded Year</th>\n",
       "      <th>Market Cap ($B)</th>\n",
       "      <th>Ticker Symbol</th>\n",
       "      <th>Debt ($M)</th>\n",
       "    </tr>\n",
       "  </thead>\n",
       "  <tbody>\n",
       "    <tr>\n",
       "      <th>0</th>\n",
       "      <td>ABC Corp</td>\n",
       "      <td>100.0</td>\n",
       "      <td>10.0</td>\n",
       "      <td>Banking</td>\n",
       "      <td>John Doe</td>\n",
       "      <td>500.0</td>\n",
       "      <td>50.5</td>\n",
       "      <td>New York</td>\n",
       "      <td>1990.0</td>\n",
       "      <td>2.5</td>\n",
       "      <td>ABC</td>\n",
       "      <td>500.0</td>\n",
       "    </tr>\n",
       "    <tr>\n",
       "      <th>1</th>\n",
       "      <td>XYZ Inc</td>\n",
       "      <td>200.0</td>\n",
       "      <td>-5.0</td>\n",
       "      <td>Insurance</td>\n",
       "      <td>Jane Smith</td>\n",
       "      <td>NaN</td>\n",
       "      <td>NaN</td>\n",
       "      <td>London</td>\n",
       "      <td>1985.0</td>\n",
       "      <td>5.0</td>\n",
       "      <td>XYZ</td>\n",
       "      <td>NaN</td>\n",
       "    </tr>\n",
       "    <tr>\n",
       "      <th>2</th>\n",
       "      <td>PQR Ltd</td>\n",
       "      <td>NaN</td>\n",
       "      <td>NaN</td>\n",
       "      <td>Banking</td>\n",
       "      <td>Alan Brown</td>\n",
       "      <td>120.0</td>\n",
       "      <td>40.0</td>\n",
       "      <td>None</td>\n",
       "      <td>2000.0</td>\n",
       "      <td>1.2</td>\n",
       "      <td>None</td>\n",
       "      <td>300.0</td>\n",
       "    </tr>\n",
       "    <tr>\n",
       "      <th>3</th>\n",
       "      <td>123 Corp</td>\n",
       "      <td>150.0</td>\n",
       "      <td>8.0</td>\n",
       "      <td>Investment</td>\n",
       "      <td>Mark Lee</td>\n",
       "      <td>450.0</td>\n",
       "      <td>NaN</td>\n",
       "      <td>Toronto</td>\n",
       "      <td>NaN</td>\n",
       "      <td>3.0</td>\n",
       "      <td>123</td>\n",
       "      <td>NaN</td>\n",
       "    </tr>\n",
       "    <tr>\n",
       "      <th>4</th>\n",
       "      <td>None</td>\n",
       "      <td>100.0</td>\n",
       "      <td>20.0</td>\n",
       "      <td>Insurance</td>\n",
       "      <td>None</td>\n",
       "      <td>700.0</td>\n",
       "      <td>25.0</td>\n",
       "      <td>Paris</td>\n",
       "      <td>1995.0</td>\n",
       "      <td>1.5</td>\n",
       "      <td>INS</td>\n",
       "      <td>200.0</td>\n",
       "    </tr>\n",
       "    <tr>\n",
       "      <th>5</th>\n",
       "      <td>TechCorp</td>\n",
       "      <td>200.0</td>\n",
       "      <td>5.0</td>\n",
       "      <td>NaN</td>\n",
       "      <td>John Doe</td>\n",
       "      <td>500.0</td>\n",
       "      <td>50.5</td>\n",
       "      <td>New York</td>\n",
       "      <td>1990.0</td>\n",
       "      <td>NaN</td>\n",
       "      <td>ABC</td>\n",
       "      <td>500.0</td>\n",
       "    </tr>\n",
       "    <tr>\n",
       "      <th>6</th>\n",
       "      <td>LMN Inc</td>\n",
       "      <td>300.0</td>\n",
       "      <td>25.0</td>\n",
       "      <td>Banking</td>\n",
       "      <td>Sarah Davis</td>\n",
       "      <td>NaN</td>\n",
       "      <td>60.0</td>\n",
       "      <td>New York</td>\n",
       "      <td>NaN</td>\n",
       "      <td>4.0</td>\n",
       "      <td>LMN</td>\n",
       "      <td>NaN</td>\n",
       "    </tr>\n",
       "  </tbody>\n",
       "</table>\n",
       "</div>"
      ],
      "text/plain": [
       "    Company  Revenue ($M)  Profit Margin (%)    Industry          CEO  \\\n",
       "0  ABC Corp         100.0               10.0     Banking     John Doe   \n",
       "1   XYZ Inc         200.0               -5.0   Insurance   Jane Smith   \n",
       "2   PQR Ltd           NaN                NaN     Banking   Alan Brown   \n",
       "3  123 Corp         150.0                8.0  Investment     Mark Lee   \n",
       "4      None         100.0               20.0   Insurance         None   \n",
       "5  TechCorp         200.0                5.0         NaN     John Doe   \n",
       "6   LMN Inc         300.0               25.0     Banking  Sarah Davis   \n",
       "\n",
       "   Employees  Stock Price   HQ City  Founded Year  Market Cap ($B)  \\\n",
       "0      500.0         50.5  New York        1990.0              2.5   \n",
       "1        NaN          NaN    London        1985.0              5.0   \n",
       "2      120.0         40.0      None        2000.0              1.2   \n",
       "3      450.0          NaN   Toronto           NaN              3.0   \n",
       "4      700.0         25.0     Paris        1995.0              1.5   \n",
       "5      500.0         50.5  New York        1990.0              NaN   \n",
       "6        NaN         60.0  New York           NaN              4.0   \n",
       "\n",
       "  Ticker Symbol  Debt ($M)  \n",
       "0           ABC      500.0  \n",
       "1           XYZ        NaN  \n",
       "2          None      300.0  \n",
       "3           123        NaN  \n",
       "4           INS      200.0  \n",
       "5           ABC      500.0  \n",
       "6           LMN        NaN  "
      ]
     },
     "execution_count": 7,
     "metadata": {},
     "output_type": "execute_result"
    }
   ],
   "source": [
    "fd"
   ]
  },
  {
   "cell_type": "code",
   "execution_count": 8,
   "id": "49491a94-92f0-4680-9b3b-2cd8e1266bc1",
   "metadata": {},
   "outputs": [
    {
     "data": {
      "text/plain": [
       "array(['ABC Corp', 'XYZ Inc', 'PQR Ltd', '123 Corp', None, 'TechCorp',\n",
       "       'LMN Inc'], dtype=object)"
      ]
     },
     "execution_count": 8,
     "metadata": {},
     "output_type": "execute_result"
    }
   ],
   "source": [
    "fd[\"Company\"].unique() # "
   ]
  },
  {
   "cell_type": "code",
   "execution_count": 9,
   "id": "33f69e14-66f9-4574-8edd-d4d29a86472c",
   "metadata": {},
   "outputs": [],
   "source": [
    "# filling the missing company name in the Compnay Column\n",
    "fd['Company'] = fd['Company'].fillna(\"Shayan Enterprises\")"
   ]
  },
  {
   "cell_type": "code",
   "execution_count": 10,
   "id": "79b66fe7-5791-4b8c-ad94-2a776ac49553",
   "metadata": {},
   "outputs": [
    {
     "data": {
      "text/html": [
       "<div>\n",
       "<style scoped>\n",
       "    .dataframe tbody tr th:only-of-type {\n",
       "        vertical-align: middle;\n",
       "    }\n",
       "\n",
       "    .dataframe tbody tr th {\n",
       "        vertical-align: top;\n",
       "    }\n",
       "\n",
       "    .dataframe thead th {\n",
       "        text-align: right;\n",
       "    }\n",
       "</style>\n",
       "<table border=\"1\" class=\"dataframe\">\n",
       "  <thead>\n",
       "    <tr style=\"text-align: right;\">\n",
       "      <th></th>\n",
       "      <th>Company</th>\n",
       "      <th>Revenue ($M)</th>\n",
       "      <th>Profit Margin (%)</th>\n",
       "      <th>Industry</th>\n",
       "      <th>CEO</th>\n",
       "      <th>Employees</th>\n",
       "      <th>Stock Price</th>\n",
       "      <th>HQ City</th>\n",
       "      <th>Founded Year</th>\n",
       "      <th>Market Cap ($B)</th>\n",
       "      <th>Ticker Symbol</th>\n",
       "      <th>Debt ($M)</th>\n",
       "    </tr>\n",
       "  </thead>\n",
       "  <tbody>\n",
       "    <tr>\n",
       "      <th>0</th>\n",
       "      <td>ABC Corp</td>\n",
       "      <td>100.0</td>\n",
       "      <td>10.0</td>\n",
       "      <td>Banking</td>\n",
       "      <td>John Doe</td>\n",
       "      <td>500.0</td>\n",
       "      <td>50.5</td>\n",
       "      <td>New York</td>\n",
       "      <td>1990.0</td>\n",
       "      <td>2.5</td>\n",
       "      <td>ABC</td>\n",
       "      <td>500.0</td>\n",
       "    </tr>\n",
       "    <tr>\n",
       "      <th>1</th>\n",
       "      <td>XYZ Inc</td>\n",
       "      <td>200.0</td>\n",
       "      <td>-5.0</td>\n",
       "      <td>Insurance</td>\n",
       "      <td>Jane Smith</td>\n",
       "      <td>NaN</td>\n",
       "      <td>NaN</td>\n",
       "      <td>London</td>\n",
       "      <td>1985.0</td>\n",
       "      <td>5.0</td>\n",
       "      <td>XYZ</td>\n",
       "      <td>NaN</td>\n",
       "    </tr>\n",
       "    <tr>\n",
       "      <th>2</th>\n",
       "      <td>PQR Ltd</td>\n",
       "      <td>NaN</td>\n",
       "      <td>NaN</td>\n",
       "      <td>Banking</td>\n",
       "      <td>Alan Brown</td>\n",
       "      <td>120.0</td>\n",
       "      <td>40.0</td>\n",
       "      <td>None</td>\n",
       "      <td>2000.0</td>\n",
       "      <td>1.2</td>\n",
       "      <td>None</td>\n",
       "      <td>300.0</td>\n",
       "    </tr>\n",
       "    <tr>\n",
       "      <th>3</th>\n",
       "      <td>123 Corp</td>\n",
       "      <td>150.0</td>\n",
       "      <td>8.0</td>\n",
       "      <td>Investment</td>\n",
       "      <td>Mark Lee</td>\n",
       "      <td>450.0</td>\n",
       "      <td>NaN</td>\n",
       "      <td>Toronto</td>\n",
       "      <td>NaN</td>\n",
       "      <td>3.0</td>\n",
       "      <td>123</td>\n",
       "      <td>NaN</td>\n",
       "    </tr>\n",
       "    <tr>\n",
       "      <th>4</th>\n",
       "      <td>Shayan Enterprises</td>\n",
       "      <td>100.0</td>\n",
       "      <td>20.0</td>\n",
       "      <td>Insurance</td>\n",
       "      <td>None</td>\n",
       "      <td>700.0</td>\n",
       "      <td>25.0</td>\n",
       "      <td>Paris</td>\n",
       "      <td>1995.0</td>\n",
       "      <td>1.5</td>\n",
       "      <td>INS</td>\n",
       "      <td>200.0</td>\n",
       "    </tr>\n",
       "    <tr>\n",
       "      <th>5</th>\n",
       "      <td>TechCorp</td>\n",
       "      <td>200.0</td>\n",
       "      <td>5.0</td>\n",
       "      <td>NaN</td>\n",
       "      <td>John Doe</td>\n",
       "      <td>500.0</td>\n",
       "      <td>50.5</td>\n",
       "      <td>New York</td>\n",
       "      <td>1990.0</td>\n",
       "      <td>NaN</td>\n",
       "      <td>ABC</td>\n",
       "      <td>500.0</td>\n",
       "    </tr>\n",
       "    <tr>\n",
       "      <th>6</th>\n",
       "      <td>LMN Inc</td>\n",
       "      <td>300.0</td>\n",
       "      <td>25.0</td>\n",
       "      <td>Banking</td>\n",
       "      <td>Sarah Davis</td>\n",
       "      <td>NaN</td>\n",
       "      <td>60.0</td>\n",
       "      <td>New York</td>\n",
       "      <td>NaN</td>\n",
       "      <td>4.0</td>\n",
       "      <td>LMN</td>\n",
       "      <td>NaN</td>\n",
       "    </tr>\n",
       "  </tbody>\n",
       "</table>\n",
       "</div>"
      ],
      "text/plain": [
       "              Company  Revenue ($M)  Profit Margin (%)    Industry  \\\n",
       "0            ABC Corp         100.0               10.0     Banking   \n",
       "1             XYZ Inc         200.0               -5.0   Insurance   \n",
       "2             PQR Ltd           NaN                NaN     Banking   \n",
       "3            123 Corp         150.0                8.0  Investment   \n",
       "4  Shayan Enterprises         100.0               20.0   Insurance   \n",
       "5            TechCorp         200.0                5.0         NaN   \n",
       "6             LMN Inc         300.0               25.0     Banking   \n",
       "\n",
       "           CEO  Employees  Stock Price   HQ City  Founded Year  \\\n",
       "0     John Doe      500.0         50.5  New York        1990.0   \n",
       "1   Jane Smith        NaN          NaN    London        1985.0   \n",
       "2   Alan Brown      120.0         40.0      None        2000.0   \n",
       "3     Mark Lee      450.0          NaN   Toronto           NaN   \n",
       "4         None      700.0         25.0     Paris        1995.0   \n",
       "5     John Doe      500.0         50.5  New York        1990.0   \n",
       "6  Sarah Davis        NaN         60.0  New York           NaN   \n",
       "\n",
       "   Market Cap ($B) Ticker Symbol  Debt ($M)  \n",
       "0              2.5           ABC      500.0  \n",
       "1              5.0           XYZ        NaN  \n",
       "2              1.2          None      300.0  \n",
       "3              3.0           123        NaN  \n",
       "4              1.5           INS      200.0  \n",
       "5              NaN           ABC      500.0  \n",
       "6              4.0           LMN        NaN  "
      ]
     },
     "execution_count": 10,
     "metadata": {},
     "output_type": "execute_result"
    }
   ],
   "source": [
    "fd"
   ]
  },
  {
   "cell_type": "code",
   "execution_count": 11,
   "id": "12765cf7-df64-48d9-b9e2-f64614087829",
   "metadata": {},
   "outputs": [
    {
     "name": "stdout",
     "output_type": "stream",
     "text": [
      "<class 'pandas.core.frame.DataFrame'>\n",
      "RangeIndex: 7 entries, 0 to 6\n",
      "Data columns (total 12 columns):\n",
      " #   Column             Non-Null Count  Dtype  \n",
      "---  ------             --------------  -----  \n",
      " 0   Company            7 non-null      object \n",
      " 1   Revenue ($M)       6 non-null      float64\n",
      " 2   Profit Margin (%)  6 non-null      float64\n",
      " 3   Industry           6 non-null      object \n",
      " 4   CEO                6 non-null      object \n",
      " 5   Employees          5 non-null      float64\n",
      " 6   Stock Price        5 non-null      float64\n",
      " 7   HQ City            6 non-null      object \n",
      " 8   Founded Year       5 non-null      float64\n",
      " 9   Market Cap ($B)    6 non-null      float64\n",
      " 10  Ticker Symbol      6 non-null      object \n",
      " 11  Debt ($M)          4 non-null      float64\n",
      "dtypes: float64(7), object(5)\n",
      "memory usage: 804.0+ bytes\n"
     ]
    }
   ],
   "source": [
    "fd.info() # Checking the data is cleaned in the Compnay Column"
   ]
  },
  {
   "cell_type": "markdown",
   "id": "fd8f85ca-4448-4681-8b73-23815a56cc8d",
   "metadata": {
    "jp-MarkdownHeadingCollapsed": true
   },
   "source": [
    "### Revenue ($M) Column Cleaning "
   ]
  },
  {
   "cell_type": "code",
   "execution_count": 12,
   "id": "94e44654-37a7-4160-b3ee-5f219e27faa9",
   "metadata": {},
   "outputs": [
    {
     "data": {
      "text/plain": [
       "np.int64(1)"
      ]
     },
     "execution_count": 12,
     "metadata": {},
     "output_type": "execute_result"
    }
   ],
   "source": [
    "fd[\"Revenue ($M)\"].isnull().sum() # Cheecking how many missing values are in the Revenue ($M) column "
   ]
  },
  {
   "cell_type": "code",
   "execution_count": 13,
   "id": "2579c54f-f311-41d3-baef-389f40a09869",
   "metadata": {},
   "outputs": [
    {
     "data": {
      "text/plain": [
       "array([100., 200.,  nan, 150., 300.])"
      ]
     },
     "execution_count": 13,
     "metadata": {},
     "output_type": "execute_result"
    }
   ],
   "source": [
    "fd['Revenue ($M)'].unique()"
   ]
  },
  {
   "cell_type": "code",
   "execution_count": 14,
   "id": "10e9eb50-e5a5-405b-a7c1-3bf00eb99d1b",
   "metadata": {},
   "outputs": [
    {
     "data": {
      "text/plain": [
       "dtype('float64')"
      ]
     },
     "execution_count": 14,
     "metadata": {},
     "output_type": "execute_result"
    }
   ],
   "source": [
    "fd['Revenue ($M)'].dtype # Checking type of the data "
   ]
  },
  {
   "cell_type": "code",
   "execution_count": 15,
   "id": "dd0164b6-0e87-4d09-a98e-28fd6cbcd218",
   "metadata": {},
   "outputs": [
    {
     "data": {
      "text/plain": [
       "np.float64(175.0)"
      ]
     },
     "execution_count": 15,
     "metadata": {},
     "output_type": "execute_result"
    }
   ],
   "source": [
    "fd['Revenue ($M)'].mean() # Finding mean of the data "
   ]
  },
  {
   "cell_type": "code",
   "execution_count": 16,
   "id": "a683ccc4-92c4-4478-9277-948583f9ab71",
   "metadata": {},
   "outputs": [],
   "source": [
    "fd['Revenue ($M)'] = fd['Revenue ($M)'].fillna(175.0) # filling the Revenue ($M) column with the mean value of the column"
   ]
  },
  {
   "cell_type": "code",
   "execution_count": 17,
   "id": "22069d0f-f203-4544-9d51-128d88cdf285",
   "metadata": {},
   "outputs": [
    {
     "data": {
      "text/html": [
       "<div>\n",
       "<style scoped>\n",
       "    .dataframe tbody tr th:only-of-type {\n",
       "        vertical-align: middle;\n",
       "    }\n",
       "\n",
       "    .dataframe tbody tr th {\n",
       "        vertical-align: top;\n",
       "    }\n",
       "\n",
       "    .dataframe thead th {\n",
       "        text-align: right;\n",
       "    }\n",
       "</style>\n",
       "<table border=\"1\" class=\"dataframe\">\n",
       "  <thead>\n",
       "    <tr style=\"text-align: right;\">\n",
       "      <th></th>\n",
       "      <th>Company</th>\n",
       "      <th>Revenue ($M)</th>\n",
       "      <th>Profit Margin (%)</th>\n",
       "      <th>Industry</th>\n",
       "      <th>CEO</th>\n",
       "      <th>Employees</th>\n",
       "      <th>Stock Price</th>\n",
       "      <th>HQ City</th>\n",
       "      <th>Founded Year</th>\n",
       "      <th>Market Cap ($B)</th>\n",
       "      <th>Ticker Symbol</th>\n",
       "      <th>Debt ($M)</th>\n",
       "    </tr>\n",
       "  </thead>\n",
       "  <tbody>\n",
       "    <tr>\n",
       "      <th>0</th>\n",
       "      <td>ABC Corp</td>\n",
       "      <td>100.0</td>\n",
       "      <td>10.0</td>\n",
       "      <td>Banking</td>\n",
       "      <td>John Doe</td>\n",
       "      <td>500.0</td>\n",
       "      <td>50.5</td>\n",
       "      <td>New York</td>\n",
       "      <td>1990.0</td>\n",
       "      <td>2.5</td>\n",
       "      <td>ABC</td>\n",
       "      <td>500.0</td>\n",
       "    </tr>\n",
       "    <tr>\n",
       "      <th>1</th>\n",
       "      <td>XYZ Inc</td>\n",
       "      <td>200.0</td>\n",
       "      <td>-5.0</td>\n",
       "      <td>Insurance</td>\n",
       "      <td>Jane Smith</td>\n",
       "      <td>NaN</td>\n",
       "      <td>NaN</td>\n",
       "      <td>London</td>\n",
       "      <td>1985.0</td>\n",
       "      <td>5.0</td>\n",
       "      <td>XYZ</td>\n",
       "      <td>NaN</td>\n",
       "    </tr>\n",
       "    <tr>\n",
       "      <th>2</th>\n",
       "      <td>PQR Ltd</td>\n",
       "      <td>175.0</td>\n",
       "      <td>NaN</td>\n",
       "      <td>Banking</td>\n",
       "      <td>Alan Brown</td>\n",
       "      <td>120.0</td>\n",
       "      <td>40.0</td>\n",
       "      <td>None</td>\n",
       "      <td>2000.0</td>\n",
       "      <td>1.2</td>\n",
       "      <td>None</td>\n",
       "      <td>300.0</td>\n",
       "    </tr>\n",
       "    <tr>\n",
       "      <th>3</th>\n",
       "      <td>123 Corp</td>\n",
       "      <td>150.0</td>\n",
       "      <td>8.0</td>\n",
       "      <td>Investment</td>\n",
       "      <td>Mark Lee</td>\n",
       "      <td>450.0</td>\n",
       "      <td>NaN</td>\n",
       "      <td>Toronto</td>\n",
       "      <td>NaN</td>\n",
       "      <td>3.0</td>\n",
       "      <td>123</td>\n",
       "      <td>NaN</td>\n",
       "    </tr>\n",
       "    <tr>\n",
       "      <th>4</th>\n",
       "      <td>Shayan Enterprises</td>\n",
       "      <td>100.0</td>\n",
       "      <td>20.0</td>\n",
       "      <td>Insurance</td>\n",
       "      <td>None</td>\n",
       "      <td>700.0</td>\n",
       "      <td>25.0</td>\n",
       "      <td>Paris</td>\n",
       "      <td>1995.0</td>\n",
       "      <td>1.5</td>\n",
       "      <td>INS</td>\n",
       "      <td>200.0</td>\n",
       "    </tr>\n",
       "    <tr>\n",
       "      <th>5</th>\n",
       "      <td>TechCorp</td>\n",
       "      <td>200.0</td>\n",
       "      <td>5.0</td>\n",
       "      <td>NaN</td>\n",
       "      <td>John Doe</td>\n",
       "      <td>500.0</td>\n",
       "      <td>50.5</td>\n",
       "      <td>New York</td>\n",
       "      <td>1990.0</td>\n",
       "      <td>NaN</td>\n",
       "      <td>ABC</td>\n",
       "      <td>500.0</td>\n",
       "    </tr>\n",
       "    <tr>\n",
       "      <th>6</th>\n",
       "      <td>LMN Inc</td>\n",
       "      <td>300.0</td>\n",
       "      <td>25.0</td>\n",
       "      <td>Banking</td>\n",
       "      <td>Sarah Davis</td>\n",
       "      <td>NaN</td>\n",
       "      <td>60.0</td>\n",
       "      <td>New York</td>\n",
       "      <td>NaN</td>\n",
       "      <td>4.0</td>\n",
       "      <td>LMN</td>\n",
       "      <td>NaN</td>\n",
       "    </tr>\n",
       "  </tbody>\n",
       "</table>\n",
       "</div>"
      ],
      "text/plain": [
       "              Company  Revenue ($M)  Profit Margin (%)    Industry  \\\n",
       "0            ABC Corp         100.0               10.0     Banking   \n",
       "1             XYZ Inc         200.0               -5.0   Insurance   \n",
       "2             PQR Ltd         175.0                NaN     Banking   \n",
       "3            123 Corp         150.0                8.0  Investment   \n",
       "4  Shayan Enterprises         100.0               20.0   Insurance   \n",
       "5            TechCorp         200.0                5.0         NaN   \n",
       "6             LMN Inc         300.0               25.0     Banking   \n",
       "\n",
       "           CEO  Employees  Stock Price   HQ City  Founded Year  \\\n",
       "0     John Doe      500.0         50.5  New York        1990.0   \n",
       "1   Jane Smith        NaN          NaN    London        1985.0   \n",
       "2   Alan Brown      120.0         40.0      None        2000.0   \n",
       "3     Mark Lee      450.0          NaN   Toronto           NaN   \n",
       "4         None      700.0         25.0     Paris        1995.0   \n",
       "5     John Doe      500.0         50.5  New York        1990.0   \n",
       "6  Sarah Davis        NaN         60.0  New York           NaN   \n",
       "\n",
       "   Market Cap ($B) Ticker Symbol  Debt ($M)  \n",
       "0              2.5           ABC      500.0  \n",
       "1              5.0           XYZ        NaN  \n",
       "2              1.2          None      300.0  \n",
       "3              3.0           123        NaN  \n",
       "4              1.5           INS      200.0  \n",
       "5              NaN           ABC      500.0  \n",
       "6              4.0           LMN        NaN  "
      ]
     },
     "execution_count": 17,
     "metadata": {},
     "output_type": "execute_result"
    }
   ],
   "source": [
    "fd"
   ]
  },
  {
   "cell_type": "code",
   "execution_count": 18,
   "id": "63ab0ae4-2f0c-4ebe-a008-92d4fdd62d68",
   "metadata": {},
   "outputs": [
    {
     "data": {
      "text/plain": [
       "array([100., 200., 175., 150., 300.])"
      ]
     },
     "execution_count": 18,
     "metadata": {},
     "output_type": "execute_result"
    }
   ],
   "source": [
    "fd['Revenue ($M)'].unique()"
   ]
  },
  {
   "cell_type": "code",
   "execution_count": 19,
   "id": "4279cb59-3aab-4a18-bb36-5a34ce366688",
   "metadata": {},
   "outputs": [
    {
     "name": "stdout",
     "output_type": "stream",
     "text": [
      "<class 'pandas.core.frame.DataFrame'>\n",
      "RangeIndex: 7 entries, 0 to 6\n",
      "Data columns (total 12 columns):\n",
      " #   Column             Non-Null Count  Dtype  \n",
      "---  ------             --------------  -----  \n",
      " 0   Company            7 non-null      object \n",
      " 1   Revenue ($M)       7 non-null      float64\n",
      " 2   Profit Margin (%)  6 non-null      float64\n",
      " 3   Industry           6 non-null      object \n",
      " 4   CEO                6 non-null      object \n",
      " 5   Employees          5 non-null      float64\n",
      " 6   Stock Price        5 non-null      float64\n",
      " 7   HQ City            6 non-null      object \n",
      " 8   Founded Year       5 non-null      float64\n",
      " 9   Market Cap ($B)    6 non-null      float64\n",
      " 10  Ticker Symbol      6 non-null      object \n",
      " 11  Debt ($M)          4 non-null      float64\n",
      "dtypes: float64(7), object(5)\n",
      "memory usage: 804.0+ bytes\n"
     ]
    }
   ],
   "source": [
    "fd.info()"
   ]
  },
  {
   "cell_type": "markdown",
   "id": "835e7964-1bb6-405c-aa3a-c06d83c4276a",
   "metadata": {
    "jp-MarkdownHeadingCollapsed": true
   },
   "source": [
    "### Profit Margin (%) Column Cleaning"
   ]
  },
  {
   "cell_type": "code",
   "execution_count": 20,
   "id": "d1267a86-fab4-4374-b257-8059b7eda4a0",
   "metadata": {},
   "outputs": [
    {
     "data": {
      "text/plain": [
       "np.int64(1)"
      ]
     },
     "execution_count": 20,
     "metadata": {},
     "output_type": "execute_result"
    }
   ],
   "source": [
    "fd[\"Profit Margin (%)\"].isnull().sum() # finding the null values in the column"
   ]
  },
  {
   "cell_type": "code",
   "execution_count": 21,
   "id": "28f03a0e-1bad-42bb-bf26-18cf65315f19",
   "metadata": {},
   "outputs": [
    {
     "data": {
      "text/plain": [
       "np.float64(10.5)"
      ]
     },
     "execution_count": 21,
     "metadata": {},
     "output_type": "execute_result"
    }
   ],
   "source": [
    "fd['Profit Margin (%)'].mean() # finding the mean of the column"
   ]
  },
  {
   "cell_type": "code",
   "execution_count": 22,
   "id": "7fc22b01-0024-4541-85ee-19f60ef69097",
   "metadata": {},
   "outputs": [],
   "source": [
    "fd['Profit Margin (%)'] = fd['Profit Margin (%)'].fillna(10.5) # filling the null values with the mean of the column"
   ]
  },
  {
   "cell_type": "code",
   "execution_count": 23,
   "id": "dd147ac2-1350-4daf-9274-b3a16dfa3ca6",
   "metadata": {},
   "outputs": [
    {
     "data": {
      "text/html": [
       "<div>\n",
       "<style scoped>\n",
       "    .dataframe tbody tr th:only-of-type {\n",
       "        vertical-align: middle;\n",
       "    }\n",
       "\n",
       "    .dataframe tbody tr th {\n",
       "        vertical-align: top;\n",
       "    }\n",
       "\n",
       "    .dataframe thead th {\n",
       "        text-align: right;\n",
       "    }\n",
       "</style>\n",
       "<table border=\"1\" class=\"dataframe\">\n",
       "  <thead>\n",
       "    <tr style=\"text-align: right;\">\n",
       "      <th></th>\n",
       "      <th>Company</th>\n",
       "      <th>Revenue ($M)</th>\n",
       "      <th>Profit Margin (%)</th>\n",
       "      <th>Industry</th>\n",
       "      <th>CEO</th>\n",
       "      <th>Employees</th>\n",
       "      <th>Stock Price</th>\n",
       "      <th>HQ City</th>\n",
       "      <th>Founded Year</th>\n",
       "      <th>Market Cap ($B)</th>\n",
       "      <th>Ticker Symbol</th>\n",
       "      <th>Debt ($M)</th>\n",
       "    </tr>\n",
       "  </thead>\n",
       "  <tbody>\n",
       "    <tr>\n",
       "      <th>0</th>\n",
       "      <td>ABC Corp</td>\n",
       "      <td>100.0</td>\n",
       "      <td>10.0</td>\n",
       "      <td>Banking</td>\n",
       "      <td>John Doe</td>\n",
       "      <td>500.0</td>\n",
       "      <td>50.5</td>\n",
       "      <td>New York</td>\n",
       "      <td>1990.0</td>\n",
       "      <td>2.5</td>\n",
       "      <td>ABC</td>\n",
       "      <td>500.0</td>\n",
       "    </tr>\n",
       "    <tr>\n",
       "      <th>1</th>\n",
       "      <td>XYZ Inc</td>\n",
       "      <td>200.0</td>\n",
       "      <td>-5.0</td>\n",
       "      <td>Insurance</td>\n",
       "      <td>Jane Smith</td>\n",
       "      <td>NaN</td>\n",
       "      <td>NaN</td>\n",
       "      <td>London</td>\n",
       "      <td>1985.0</td>\n",
       "      <td>5.0</td>\n",
       "      <td>XYZ</td>\n",
       "      <td>NaN</td>\n",
       "    </tr>\n",
       "    <tr>\n",
       "      <th>2</th>\n",
       "      <td>PQR Ltd</td>\n",
       "      <td>175.0</td>\n",
       "      <td>10.5</td>\n",
       "      <td>Banking</td>\n",
       "      <td>Alan Brown</td>\n",
       "      <td>120.0</td>\n",
       "      <td>40.0</td>\n",
       "      <td>None</td>\n",
       "      <td>2000.0</td>\n",
       "      <td>1.2</td>\n",
       "      <td>None</td>\n",
       "      <td>300.0</td>\n",
       "    </tr>\n",
       "    <tr>\n",
       "      <th>3</th>\n",
       "      <td>123 Corp</td>\n",
       "      <td>150.0</td>\n",
       "      <td>8.0</td>\n",
       "      <td>Investment</td>\n",
       "      <td>Mark Lee</td>\n",
       "      <td>450.0</td>\n",
       "      <td>NaN</td>\n",
       "      <td>Toronto</td>\n",
       "      <td>NaN</td>\n",
       "      <td>3.0</td>\n",
       "      <td>123</td>\n",
       "      <td>NaN</td>\n",
       "    </tr>\n",
       "    <tr>\n",
       "      <th>4</th>\n",
       "      <td>Shayan Enterprises</td>\n",
       "      <td>100.0</td>\n",
       "      <td>20.0</td>\n",
       "      <td>Insurance</td>\n",
       "      <td>None</td>\n",
       "      <td>700.0</td>\n",
       "      <td>25.0</td>\n",
       "      <td>Paris</td>\n",
       "      <td>1995.0</td>\n",
       "      <td>1.5</td>\n",
       "      <td>INS</td>\n",
       "      <td>200.0</td>\n",
       "    </tr>\n",
       "    <tr>\n",
       "      <th>5</th>\n",
       "      <td>TechCorp</td>\n",
       "      <td>200.0</td>\n",
       "      <td>5.0</td>\n",
       "      <td>NaN</td>\n",
       "      <td>John Doe</td>\n",
       "      <td>500.0</td>\n",
       "      <td>50.5</td>\n",
       "      <td>New York</td>\n",
       "      <td>1990.0</td>\n",
       "      <td>NaN</td>\n",
       "      <td>ABC</td>\n",
       "      <td>500.0</td>\n",
       "    </tr>\n",
       "    <tr>\n",
       "      <th>6</th>\n",
       "      <td>LMN Inc</td>\n",
       "      <td>300.0</td>\n",
       "      <td>25.0</td>\n",
       "      <td>Banking</td>\n",
       "      <td>Sarah Davis</td>\n",
       "      <td>NaN</td>\n",
       "      <td>60.0</td>\n",
       "      <td>New York</td>\n",
       "      <td>NaN</td>\n",
       "      <td>4.0</td>\n",
       "      <td>LMN</td>\n",
       "      <td>NaN</td>\n",
       "    </tr>\n",
       "  </tbody>\n",
       "</table>\n",
       "</div>"
      ],
      "text/plain": [
       "              Company  Revenue ($M)  Profit Margin (%)    Industry  \\\n",
       "0            ABC Corp         100.0               10.0     Banking   \n",
       "1             XYZ Inc         200.0               -5.0   Insurance   \n",
       "2             PQR Ltd         175.0               10.5     Banking   \n",
       "3            123 Corp         150.0                8.0  Investment   \n",
       "4  Shayan Enterprises         100.0               20.0   Insurance   \n",
       "5            TechCorp         200.0                5.0         NaN   \n",
       "6             LMN Inc         300.0               25.0     Banking   \n",
       "\n",
       "           CEO  Employees  Stock Price   HQ City  Founded Year  \\\n",
       "0     John Doe      500.0         50.5  New York        1990.0   \n",
       "1   Jane Smith        NaN          NaN    London        1985.0   \n",
       "2   Alan Brown      120.0         40.0      None        2000.0   \n",
       "3     Mark Lee      450.0          NaN   Toronto           NaN   \n",
       "4         None      700.0         25.0     Paris        1995.0   \n",
       "5     John Doe      500.0         50.5  New York        1990.0   \n",
       "6  Sarah Davis        NaN         60.0  New York           NaN   \n",
       "\n",
       "   Market Cap ($B) Ticker Symbol  Debt ($M)  \n",
       "0              2.5           ABC      500.0  \n",
       "1              5.0           XYZ        NaN  \n",
       "2              1.2          None      300.0  \n",
       "3              3.0           123        NaN  \n",
       "4              1.5           INS      200.0  \n",
       "5              NaN           ABC      500.0  \n",
       "6              4.0           LMN        NaN  "
      ]
     },
     "execution_count": 23,
     "metadata": {},
     "output_type": "execute_result"
    }
   ],
   "source": [
    "fd"
   ]
  },
  {
   "cell_type": "code",
   "execution_count": 24,
   "id": "5390de22-04fd-4d7e-b1c6-b6687a541dfa",
   "metadata": {},
   "outputs": [
    {
     "data": {
      "text/plain": [
       "array([10. , -5. , 10.5,  8. , 20. ,  5. , 25. ])"
      ]
     },
     "execution_count": 24,
     "metadata": {},
     "output_type": "execute_result"
    }
   ],
   "source": [
    "fd['Profit Margin (%)'].unique()"
   ]
  },
  {
   "cell_type": "code",
   "execution_count": 25,
   "id": "4ddeffad-b88c-41bf-85ff-1af8cbb5440e",
   "metadata": {},
   "outputs": [
    {
     "name": "stdout",
     "output_type": "stream",
     "text": [
      "<class 'pandas.core.frame.DataFrame'>\n",
      "RangeIndex: 7 entries, 0 to 6\n",
      "Data columns (total 12 columns):\n",
      " #   Column             Non-Null Count  Dtype  \n",
      "---  ------             --------------  -----  \n",
      " 0   Company            7 non-null      object \n",
      " 1   Revenue ($M)       7 non-null      float64\n",
      " 2   Profit Margin (%)  7 non-null      float64\n",
      " 3   Industry           6 non-null      object \n",
      " 4   CEO                6 non-null      object \n",
      " 5   Employees          5 non-null      float64\n",
      " 6   Stock Price        5 non-null      float64\n",
      " 7   HQ City            6 non-null      object \n",
      " 8   Founded Year       5 non-null      float64\n",
      " 9   Market Cap ($B)    6 non-null      float64\n",
      " 10  Ticker Symbol      6 non-null      object \n",
      " 11  Debt ($M)          4 non-null      float64\n",
      "dtypes: float64(7), object(5)\n",
      "memory usage: 804.0+ bytes\n"
     ]
    }
   ],
   "source": [
    "fd.info()"
   ]
  },
  {
   "cell_type": "code",
   "execution_count": 26,
   "id": "0d6a1e56-10c7-4466-a1c9-34b9f461c8a0",
   "metadata": {},
   "outputs": [
    {
     "data": {
      "text/html": [
       "<div>\n",
       "<style scoped>\n",
       "    .dataframe tbody tr th:only-of-type {\n",
       "        vertical-align: middle;\n",
       "    }\n",
       "\n",
       "    .dataframe tbody tr th {\n",
       "        vertical-align: top;\n",
       "    }\n",
       "\n",
       "    .dataframe thead th {\n",
       "        text-align: right;\n",
       "    }\n",
       "</style>\n",
       "<table border=\"1\" class=\"dataframe\">\n",
       "  <thead>\n",
       "    <tr style=\"text-align: right;\">\n",
       "      <th></th>\n",
       "      <th>Company</th>\n",
       "      <th>Revenue ($M)</th>\n",
       "      <th>Profit Margin (%)</th>\n",
       "      <th>Industry</th>\n",
       "      <th>CEO</th>\n",
       "      <th>Employees</th>\n",
       "      <th>Stock Price</th>\n",
       "      <th>HQ City</th>\n",
       "      <th>Founded Year</th>\n",
       "      <th>Market Cap ($B)</th>\n",
       "      <th>Ticker Symbol</th>\n",
       "      <th>Debt ($M)</th>\n",
       "    </tr>\n",
       "  </thead>\n",
       "  <tbody>\n",
       "    <tr>\n",
       "      <th>0</th>\n",
       "      <td>ABC Corp</td>\n",
       "      <td>100.0</td>\n",
       "      <td>10.0</td>\n",
       "      <td>Banking</td>\n",
       "      <td>John Doe</td>\n",
       "      <td>500.0</td>\n",
       "      <td>50.5</td>\n",
       "      <td>New York</td>\n",
       "      <td>1990.0</td>\n",
       "      <td>2.5</td>\n",
       "      <td>ABC</td>\n",
       "      <td>500.0</td>\n",
       "    </tr>\n",
       "    <tr>\n",
       "      <th>1</th>\n",
       "      <td>XYZ Inc</td>\n",
       "      <td>200.0</td>\n",
       "      <td>-5.0</td>\n",
       "      <td>Insurance</td>\n",
       "      <td>Jane Smith</td>\n",
       "      <td>NaN</td>\n",
       "      <td>NaN</td>\n",
       "      <td>London</td>\n",
       "      <td>1985.0</td>\n",
       "      <td>5.0</td>\n",
       "      <td>XYZ</td>\n",
       "      <td>NaN</td>\n",
       "    </tr>\n",
       "    <tr>\n",
       "      <th>2</th>\n",
       "      <td>PQR Ltd</td>\n",
       "      <td>175.0</td>\n",
       "      <td>10.5</td>\n",
       "      <td>Banking</td>\n",
       "      <td>Alan Brown</td>\n",
       "      <td>120.0</td>\n",
       "      <td>40.0</td>\n",
       "      <td>None</td>\n",
       "      <td>2000.0</td>\n",
       "      <td>1.2</td>\n",
       "      <td>None</td>\n",
       "      <td>300.0</td>\n",
       "    </tr>\n",
       "    <tr>\n",
       "      <th>3</th>\n",
       "      <td>123 Corp</td>\n",
       "      <td>150.0</td>\n",
       "      <td>8.0</td>\n",
       "      <td>Investment</td>\n",
       "      <td>Mark Lee</td>\n",
       "      <td>450.0</td>\n",
       "      <td>NaN</td>\n",
       "      <td>Toronto</td>\n",
       "      <td>NaN</td>\n",
       "      <td>3.0</td>\n",
       "      <td>123</td>\n",
       "      <td>NaN</td>\n",
       "    </tr>\n",
       "    <tr>\n",
       "      <th>4</th>\n",
       "      <td>Shayan Enterprises</td>\n",
       "      <td>100.0</td>\n",
       "      <td>20.0</td>\n",
       "      <td>Insurance</td>\n",
       "      <td>None</td>\n",
       "      <td>700.0</td>\n",
       "      <td>25.0</td>\n",
       "      <td>Paris</td>\n",
       "      <td>1995.0</td>\n",
       "      <td>1.5</td>\n",
       "      <td>INS</td>\n",
       "      <td>200.0</td>\n",
       "    </tr>\n",
       "    <tr>\n",
       "      <th>5</th>\n",
       "      <td>TechCorp</td>\n",
       "      <td>200.0</td>\n",
       "      <td>5.0</td>\n",
       "      <td>NaN</td>\n",
       "      <td>John Doe</td>\n",
       "      <td>500.0</td>\n",
       "      <td>50.5</td>\n",
       "      <td>New York</td>\n",
       "      <td>1990.0</td>\n",
       "      <td>NaN</td>\n",
       "      <td>ABC</td>\n",
       "      <td>500.0</td>\n",
       "    </tr>\n",
       "    <tr>\n",
       "      <th>6</th>\n",
       "      <td>LMN Inc</td>\n",
       "      <td>300.0</td>\n",
       "      <td>25.0</td>\n",
       "      <td>Banking</td>\n",
       "      <td>Sarah Davis</td>\n",
       "      <td>NaN</td>\n",
       "      <td>60.0</td>\n",
       "      <td>New York</td>\n",
       "      <td>NaN</td>\n",
       "      <td>4.0</td>\n",
       "      <td>LMN</td>\n",
       "      <td>NaN</td>\n",
       "    </tr>\n",
       "  </tbody>\n",
       "</table>\n",
       "</div>"
      ],
      "text/plain": [
       "              Company  Revenue ($M)  Profit Margin (%)    Industry  \\\n",
       "0            ABC Corp         100.0               10.0     Banking   \n",
       "1             XYZ Inc         200.0               -5.0   Insurance   \n",
       "2             PQR Ltd         175.0               10.5     Banking   \n",
       "3            123 Corp         150.0                8.0  Investment   \n",
       "4  Shayan Enterprises         100.0               20.0   Insurance   \n",
       "5            TechCorp         200.0                5.0         NaN   \n",
       "6             LMN Inc         300.0               25.0     Banking   \n",
       "\n",
       "           CEO  Employees  Stock Price   HQ City  Founded Year  \\\n",
       "0     John Doe      500.0         50.5  New York        1990.0   \n",
       "1   Jane Smith        NaN          NaN    London        1985.0   \n",
       "2   Alan Brown      120.0         40.0      None        2000.0   \n",
       "3     Mark Lee      450.0          NaN   Toronto           NaN   \n",
       "4         None      700.0         25.0     Paris        1995.0   \n",
       "5     John Doe      500.0         50.5  New York        1990.0   \n",
       "6  Sarah Davis        NaN         60.0  New York           NaN   \n",
       "\n",
       "   Market Cap ($B) Ticker Symbol  Debt ($M)  \n",
       "0              2.5           ABC      500.0  \n",
       "1              5.0           XYZ        NaN  \n",
       "2              1.2          None      300.0  \n",
       "3              3.0           123        NaN  \n",
       "4              1.5           INS      200.0  \n",
       "5              NaN           ABC      500.0  \n",
       "6              4.0           LMN        NaN  "
      ]
     },
     "execution_count": 26,
     "metadata": {},
     "output_type": "execute_result"
    }
   ],
   "source": [
    "fd"
   ]
  },
  {
   "cell_type": "markdown",
   "id": "00fab1fd-8561-4f17-8dc0-23df5b7392ea",
   "metadata": {
    "jp-MarkdownHeadingCollapsed": true
   },
   "source": [
    "### Industry Column Cleaning"
   ]
  },
  {
   "cell_type": "code",
   "execution_count": 27,
   "id": "281f4be9-86a5-42bb-9c65-767ac7ca69d7",
   "metadata": {},
   "outputs": [
    {
     "data": {
      "text/plain": [
       "count           6\n",
       "unique          3\n",
       "top       Banking\n",
       "freq            3\n",
       "Name: Industry, dtype: object"
      ]
     },
     "execution_count": 27,
     "metadata": {},
     "output_type": "execute_result"
    }
   ],
   "source": [
    "fd['Industry'].describe() # finding which value has count , unique, and frequently values"
   ]
  },
  {
   "cell_type": "code",
   "execution_count": 28,
   "id": "6c3a227e-0226-41b5-b1eb-0374a07da8cf",
   "metadata": {},
   "outputs": [
    {
     "data": {
      "text/plain": [
       "np.int64(1)"
      ]
     },
     "execution_count": 28,
     "metadata": {},
     "output_type": "execute_result"
    }
   ],
   "source": [
    "fd[\"Industry\"].isnull().sum() # Checking the null values in the industry column"
   ]
  },
  {
   "cell_type": "code",
   "execution_count": 29,
   "id": "34736fae-e34a-43a3-b58a-dadfa49bcfc4",
   "metadata": {},
   "outputs": [],
   "source": [
    "fd['Industry'] = fd['Industry'].fillna(\"Banking\") # filling the nill value with most frequently value"
   ]
  },
  {
   "cell_type": "code",
   "execution_count": 30,
   "id": "e56f273f-4557-4834-854c-37c9ed168aaa",
   "metadata": {},
   "outputs": [
    {
     "data": {
      "text/html": [
       "<div>\n",
       "<style scoped>\n",
       "    .dataframe tbody tr th:only-of-type {\n",
       "        vertical-align: middle;\n",
       "    }\n",
       "\n",
       "    .dataframe tbody tr th {\n",
       "        vertical-align: top;\n",
       "    }\n",
       "\n",
       "    .dataframe thead th {\n",
       "        text-align: right;\n",
       "    }\n",
       "</style>\n",
       "<table border=\"1\" class=\"dataframe\">\n",
       "  <thead>\n",
       "    <tr style=\"text-align: right;\">\n",
       "      <th></th>\n",
       "      <th>Company</th>\n",
       "      <th>Revenue ($M)</th>\n",
       "      <th>Profit Margin (%)</th>\n",
       "      <th>Industry</th>\n",
       "      <th>CEO</th>\n",
       "      <th>Employees</th>\n",
       "      <th>Stock Price</th>\n",
       "      <th>HQ City</th>\n",
       "      <th>Founded Year</th>\n",
       "      <th>Market Cap ($B)</th>\n",
       "      <th>Ticker Symbol</th>\n",
       "      <th>Debt ($M)</th>\n",
       "    </tr>\n",
       "  </thead>\n",
       "  <tbody>\n",
       "    <tr>\n",
       "      <th>0</th>\n",
       "      <td>ABC Corp</td>\n",
       "      <td>100.0</td>\n",
       "      <td>10.0</td>\n",
       "      <td>Banking</td>\n",
       "      <td>John Doe</td>\n",
       "      <td>500.0</td>\n",
       "      <td>50.5</td>\n",
       "      <td>New York</td>\n",
       "      <td>1990.0</td>\n",
       "      <td>2.5</td>\n",
       "      <td>ABC</td>\n",
       "      <td>500.0</td>\n",
       "    </tr>\n",
       "    <tr>\n",
       "      <th>1</th>\n",
       "      <td>XYZ Inc</td>\n",
       "      <td>200.0</td>\n",
       "      <td>-5.0</td>\n",
       "      <td>Insurance</td>\n",
       "      <td>Jane Smith</td>\n",
       "      <td>NaN</td>\n",
       "      <td>NaN</td>\n",
       "      <td>London</td>\n",
       "      <td>1985.0</td>\n",
       "      <td>5.0</td>\n",
       "      <td>XYZ</td>\n",
       "      <td>NaN</td>\n",
       "    </tr>\n",
       "    <tr>\n",
       "      <th>2</th>\n",
       "      <td>PQR Ltd</td>\n",
       "      <td>175.0</td>\n",
       "      <td>10.5</td>\n",
       "      <td>Banking</td>\n",
       "      <td>Alan Brown</td>\n",
       "      <td>120.0</td>\n",
       "      <td>40.0</td>\n",
       "      <td>None</td>\n",
       "      <td>2000.0</td>\n",
       "      <td>1.2</td>\n",
       "      <td>None</td>\n",
       "      <td>300.0</td>\n",
       "    </tr>\n",
       "    <tr>\n",
       "      <th>3</th>\n",
       "      <td>123 Corp</td>\n",
       "      <td>150.0</td>\n",
       "      <td>8.0</td>\n",
       "      <td>Investment</td>\n",
       "      <td>Mark Lee</td>\n",
       "      <td>450.0</td>\n",
       "      <td>NaN</td>\n",
       "      <td>Toronto</td>\n",
       "      <td>NaN</td>\n",
       "      <td>3.0</td>\n",
       "      <td>123</td>\n",
       "      <td>NaN</td>\n",
       "    </tr>\n",
       "    <tr>\n",
       "      <th>4</th>\n",
       "      <td>Shayan Enterprises</td>\n",
       "      <td>100.0</td>\n",
       "      <td>20.0</td>\n",
       "      <td>Insurance</td>\n",
       "      <td>None</td>\n",
       "      <td>700.0</td>\n",
       "      <td>25.0</td>\n",
       "      <td>Paris</td>\n",
       "      <td>1995.0</td>\n",
       "      <td>1.5</td>\n",
       "      <td>INS</td>\n",
       "      <td>200.0</td>\n",
       "    </tr>\n",
       "    <tr>\n",
       "      <th>5</th>\n",
       "      <td>TechCorp</td>\n",
       "      <td>200.0</td>\n",
       "      <td>5.0</td>\n",
       "      <td>Banking</td>\n",
       "      <td>John Doe</td>\n",
       "      <td>500.0</td>\n",
       "      <td>50.5</td>\n",
       "      <td>New York</td>\n",
       "      <td>1990.0</td>\n",
       "      <td>NaN</td>\n",
       "      <td>ABC</td>\n",
       "      <td>500.0</td>\n",
       "    </tr>\n",
       "    <tr>\n",
       "      <th>6</th>\n",
       "      <td>LMN Inc</td>\n",
       "      <td>300.0</td>\n",
       "      <td>25.0</td>\n",
       "      <td>Banking</td>\n",
       "      <td>Sarah Davis</td>\n",
       "      <td>NaN</td>\n",
       "      <td>60.0</td>\n",
       "      <td>New York</td>\n",
       "      <td>NaN</td>\n",
       "      <td>4.0</td>\n",
       "      <td>LMN</td>\n",
       "      <td>NaN</td>\n",
       "    </tr>\n",
       "  </tbody>\n",
       "</table>\n",
       "</div>"
      ],
      "text/plain": [
       "              Company  Revenue ($M)  Profit Margin (%)    Industry  \\\n",
       "0            ABC Corp         100.0               10.0     Banking   \n",
       "1             XYZ Inc         200.0               -5.0   Insurance   \n",
       "2             PQR Ltd         175.0               10.5     Banking   \n",
       "3            123 Corp         150.0                8.0  Investment   \n",
       "4  Shayan Enterprises         100.0               20.0   Insurance   \n",
       "5            TechCorp         200.0                5.0     Banking   \n",
       "6             LMN Inc         300.0               25.0     Banking   \n",
       "\n",
       "           CEO  Employees  Stock Price   HQ City  Founded Year  \\\n",
       "0     John Doe      500.0         50.5  New York        1990.0   \n",
       "1   Jane Smith        NaN          NaN    London        1985.0   \n",
       "2   Alan Brown      120.0         40.0      None        2000.0   \n",
       "3     Mark Lee      450.0          NaN   Toronto           NaN   \n",
       "4         None      700.0         25.0     Paris        1995.0   \n",
       "5     John Doe      500.0         50.5  New York        1990.0   \n",
       "6  Sarah Davis        NaN         60.0  New York           NaN   \n",
       "\n",
       "   Market Cap ($B) Ticker Symbol  Debt ($M)  \n",
       "0              2.5           ABC      500.0  \n",
       "1              5.0           XYZ        NaN  \n",
       "2              1.2          None      300.0  \n",
       "3              3.0           123        NaN  \n",
       "4              1.5           INS      200.0  \n",
       "5              NaN           ABC      500.0  \n",
       "6              4.0           LMN        NaN  "
      ]
     },
     "execution_count": 30,
     "metadata": {},
     "output_type": "execute_result"
    }
   ],
   "source": [
    "fd"
   ]
  },
  {
   "cell_type": "code",
   "execution_count": 31,
   "id": "0c49f0c0-a0aa-4727-8b5f-c566e7e491ab",
   "metadata": {},
   "outputs": [
    {
     "data": {
      "text/plain": [
       "array(['Banking', 'Insurance', 'Investment'], dtype=object)"
      ]
     },
     "execution_count": 31,
     "metadata": {},
     "output_type": "execute_result"
    }
   ],
   "source": [
    "fd['Industry'].unique()"
   ]
  },
  {
   "cell_type": "code",
   "execution_count": 32,
   "id": "ad3a86aa-a851-4ae9-a411-8251f9851257",
   "metadata": {},
   "outputs": [
    {
     "data": {
      "text/plain": [
       "<bound method Series.info of 0       Banking\n",
       "1     Insurance\n",
       "2       Banking\n",
       "3    Investment\n",
       "4     Insurance\n",
       "5       Banking\n",
       "6       Banking\n",
       "Name: Industry, dtype: object>"
      ]
     },
     "execution_count": 32,
     "metadata": {},
     "output_type": "execute_result"
    }
   ],
   "source": [
    "fd['Industry'].info"
   ]
  },
  {
   "cell_type": "markdown",
   "id": "df9a41b2-7cee-4b90-9832-92493c9090f7",
   "metadata": {
    "jp-MarkdownHeadingCollapsed": true
   },
   "source": [
    "### CEO Column Cleaning "
   ]
  },
  {
   "cell_type": "code",
   "execution_count": 33,
   "id": "6dbbe0ed-21d5-4746-bc26-474fb77ddd1f",
   "metadata": {},
   "outputs": [
    {
     "data": {
      "text/plain": [
       "np.int64(1)"
      ]
     },
     "execution_count": 33,
     "metadata": {},
     "output_type": "execute_result"
    }
   ],
   "source": [
    "fd[\"CEO\"].isnull().sum() # finding the null values in the column"
   ]
  },
  {
   "cell_type": "code",
   "execution_count": 34,
   "id": "c00e3c33-821e-4571-9784-271e42b7a4c7",
   "metadata": {},
   "outputs": [
    {
     "data": {
      "text/plain": [
       "<bound method Series.info of 0       John Doe\n",
       "1     Jane Smith\n",
       "2     Alan Brown\n",
       "3       Mark Lee\n",
       "4           None\n",
       "5       John Doe\n",
       "6    Sarah Davis\n",
       "Name: CEO, dtype: object>"
      ]
     },
     "execution_count": 34,
     "metadata": {},
     "output_type": "execute_result"
    }
   ],
   "source": [
    "fd['CEO'].info"
   ]
  },
  {
   "cell_type": "code",
   "execution_count": 35,
   "id": "0ea9fec6-76ba-49b8-b69d-e8dd5744d1fc",
   "metadata": {},
   "outputs": [],
   "source": [
    "fd['CEO']= fd['CEO'].fillna(\"Unkown\") # filling the null value with the unkownn because We Don't know the ceo name"
   ]
  },
  {
   "cell_type": "code",
   "execution_count": 36,
   "id": "a0629c4f-cc64-4186-8e4d-bbc0138e0e8c",
   "metadata": {},
   "outputs": [
    {
     "data": {
      "text/html": [
       "<div>\n",
       "<style scoped>\n",
       "    .dataframe tbody tr th:only-of-type {\n",
       "        vertical-align: middle;\n",
       "    }\n",
       "\n",
       "    .dataframe tbody tr th {\n",
       "        vertical-align: top;\n",
       "    }\n",
       "\n",
       "    .dataframe thead th {\n",
       "        text-align: right;\n",
       "    }\n",
       "</style>\n",
       "<table border=\"1\" class=\"dataframe\">\n",
       "  <thead>\n",
       "    <tr style=\"text-align: right;\">\n",
       "      <th></th>\n",
       "      <th>Company</th>\n",
       "      <th>Revenue ($M)</th>\n",
       "      <th>Profit Margin (%)</th>\n",
       "      <th>Industry</th>\n",
       "      <th>CEO</th>\n",
       "      <th>Employees</th>\n",
       "      <th>Stock Price</th>\n",
       "      <th>HQ City</th>\n",
       "      <th>Founded Year</th>\n",
       "      <th>Market Cap ($B)</th>\n",
       "      <th>Ticker Symbol</th>\n",
       "      <th>Debt ($M)</th>\n",
       "    </tr>\n",
       "  </thead>\n",
       "  <tbody>\n",
       "    <tr>\n",
       "      <th>0</th>\n",
       "      <td>ABC Corp</td>\n",
       "      <td>100.0</td>\n",
       "      <td>10.0</td>\n",
       "      <td>Banking</td>\n",
       "      <td>John Doe</td>\n",
       "      <td>500.0</td>\n",
       "      <td>50.5</td>\n",
       "      <td>New York</td>\n",
       "      <td>1990.0</td>\n",
       "      <td>2.5</td>\n",
       "      <td>ABC</td>\n",
       "      <td>500.0</td>\n",
       "    </tr>\n",
       "    <tr>\n",
       "      <th>1</th>\n",
       "      <td>XYZ Inc</td>\n",
       "      <td>200.0</td>\n",
       "      <td>-5.0</td>\n",
       "      <td>Insurance</td>\n",
       "      <td>Jane Smith</td>\n",
       "      <td>NaN</td>\n",
       "      <td>NaN</td>\n",
       "      <td>London</td>\n",
       "      <td>1985.0</td>\n",
       "      <td>5.0</td>\n",
       "      <td>XYZ</td>\n",
       "      <td>NaN</td>\n",
       "    </tr>\n",
       "    <tr>\n",
       "      <th>2</th>\n",
       "      <td>PQR Ltd</td>\n",
       "      <td>175.0</td>\n",
       "      <td>10.5</td>\n",
       "      <td>Banking</td>\n",
       "      <td>Alan Brown</td>\n",
       "      <td>120.0</td>\n",
       "      <td>40.0</td>\n",
       "      <td>None</td>\n",
       "      <td>2000.0</td>\n",
       "      <td>1.2</td>\n",
       "      <td>None</td>\n",
       "      <td>300.0</td>\n",
       "    </tr>\n",
       "    <tr>\n",
       "      <th>3</th>\n",
       "      <td>123 Corp</td>\n",
       "      <td>150.0</td>\n",
       "      <td>8.0</td>\n",
       "      <td>Investment</td>\n",
       "      <td>Mark Lee</td>\n",
       "      <td>450.0</td>\n",
       "      <td>NaN</td>\n",
       "      <td>Toronto</td>\n",
       "      <td>NaN</td>\n",
       "      <td>3.0</td>\n",
       "      <td>123</td>\n",
       "      <td>NaN</td>\n",
       "    </tr>\n",
       "    <tr>\n",
       "      <th>4</th>\n",
       "      <td>Shayan Enterprises</td>\n",
       "      <td>100.0</td>\n",
       "      <td>20.0</td>\n",
       "      <td>Insurance</td>\n",
       "      <td>Unkown</td>\n",
       "      <td>700.0</td>\n",
       "      <td>25.0</td>\n",
       "      <td>Paris</td>\n",
       "      <td>1995.0</td>\n",
       "      <td>1.5</td>\n",
       "      <td>INS</td>\n",
       "      <td>200.0</td>\n",
       "    </tr>\n",
       "    <tr>\n",
       "      <th>5</th>\n",
       "      <td>TechCorp</td>\n",
       "      <td>200.0</td>\n",
       "      <td>5.0</td>\n",
       "      <td>Banking</td>\n",
       "      <td>John Doe</td>\n",
       "      <td>500.0</td>\n",
       "      <td>50.5</td>\n",
       "      <td>New York</td>\n",
       "      <td>1990.0</td>\n",
       "      <td>NaN</td>\n",
       "      <td>ABC</td>\n",
       "      <td>500.0</td>\n",
       "    </tr>\n",
       "    <tr>\n",
       "      <th>6</th>\n",
       "      <td>LMN Inc</td>\n",
       "      <td>300.0</td>\n",
       "      <td>25.0</td>\n",
       "      <td>Banking</td>\n",
       "      <td>Sarah Davis</td>\n",
       "      <td>NaN</td>\n",
       "      <td>60.0</td>\n",
       "      <td>New York</td>\n",
       "      <td>NaN</td>\n",
       "      <td>4.0</td>\n",
       "      <td>LMN</td>\n",
       "      <td>NaN</td>\n",
       "    </tr>\n",
       "  </tbody>\n",
       "</table>\n",
       "</div>"
      ],
      "text/plain": [
       "              Company  Revenue ($M)  Profit Margin (%)    Industry  \\\n",
       "0            ABC Corp         100.0               10.0     Banking   \n",
       "1             XYZ Inc         200.0               -5.0   Insurance   \n",
       "2             PQR Ltd         175.0               10.5     Banking   \n",
       "3            123 Corp         150.0                8.0  Investment   \n",
       "4  Shayan Enterprises         100.0               20.0   Insurance   \n",
       "5            TechCorp         200.0                5.0     Banking   \n",
       "6             LMN Inc         300.0               25.0     Banking   \n",
       "\n",
       "           CEO  Employees  Stock Price   HQ City  Founded Year  \\\n",
       "0     John Doe      500.0         50.5  New York        1990.0   \n",
       "1   Jane Smith        NaN          NaN    London        1985.0   \n",
       "2   Alan Brown      120.0         40.0      None        2000.0   \n",
       "3     Mark Lee      450.0          NaN   Toronto           NaN   \n",
       "4       Unkown      700.0         25.0     Paris        1995.0   \n",
       "5     John Doe      500.0         50.5  New York        1990.0   \n",
       "6  Sarah Davis        NaN         60.0  New York           NaN   \n",
       "\n",
       "   Market Cap ($B) Ticker Symbol  Debt ($M)  \n",
       "0              2.5           ABC      500.0  \n",
       "1              5.0           XYZ        NaN  \n",
       "2              1.2          None      300.0  \n",
       "3              3.0           123        NaN  \n",
       "4              1.5           INS      200.0  \n",
       "5              NaN           ABC      500.0  \n",
       "6              4.0           LMN        NaN  "
      ]
     },
     "execution_count": 36,
     "metadata": {},
     "output_type": "execute_result"
    }
   ],
   "source": [
    "fd"
   ]
  },
  {
   "cell_type": "code",
   "execution_count": 37,
   "id": "36d97e27-c0c3-4238-a593-07ff81b5fce5",
   "metadata": {},
   "outputs": [
    {
     "data": {
      "text/plain": [
       "np.int64(0)"
      ]
     },
     "execution_count": 37,
     "metadata": {},
     "output_type": "execute_result"
    }
   ],
   "source": [
    "fd[\"CEO\"].isnull().sum() # checking again"
   ]
  },
  {
   "cell_type": "markdown",
   "id": "9ea0f7ea-18f1-4e35-b817-0bd3647f6fc3",
   "metadata": {
    "jp-MarkdownHeadingCollapsed": true
   },
   "source": [
    "### Employees Column Cleaning"
   ]
  },
  {
   "cell_type": "code",
   "execution_count": 38,
   "id": "6e0dbc6d-8592-41a0-8f8d-d612addee600",
   "metadata": {},
   "outputs": [
    {
     "data": {
      "text/plain": [
       "np.int64(2)"
      ]
     },
     "execution_count": 38,
     "metadata": {},
     "output_type": "execute_result"
    }
   ],
   "source": [
    "fd['Employees'].isnull().sum() # checking how many null values are in the Employees column"
   ]
  },
  {
   "cell_type": "code",
   "execution_count": 39,
   "id": "0db52b5e-6491-453e-aa3b-3ff4ab4820dc",
   "metadata": {},
   "outputs": [
    {
     "data": {
      "text/plain": [
       "<bound method Series.median of 0    500.0\n",
       "1      NaN\n",
       "2    120.0\n",
       "3    450.0\n",
       "4    700.0\n",
       "5    500.0\n",
       "6      NaN\n",
       "Name: Employees, dtype: float64>"
      ]
     },
     "execution_count": 39,
     "metadata": {},
     "output_type": "execute_result"
    }
   ],
   "source": [
    "fd['Employees'].median # Finding the central tendency median of the Employees column"
   ]
  },
  {
   "cell_type": "code",
   "execution_count": 40,
   "id": "1153294c-b06b-40d7-83bc-4937eb810e62",
   "metadata": {},
   "outputs": [
    {
     "data": {
      "text/plain": [
       "np.float64(454.0)"
      ]
     },
     "execution_count": 40,
     "metadata": {},
     "output_type": "execute_result"
    }
   ],
   "source": [
    "fd['Employees'].mean() # finding the central tendency mean of the Employees column"
   ]
  },
  {
   "cell_type": "code",
   "execution_count": 41,
   "id": "732f0292-f1f1-4bbb-b67a-ca7eca13e016",
   "metadata": {},
   "outputs": [],
   "source": [
    "fd['Employees'] = fd['Employees'].fillna(454.0) # Filling the null values with the mean values of the column"
   ]
  },
  {
   "cell_type": "code",
   "execution_count": 42,
   "id": "b66f9631-cdd7-4316-91cc-11049d82ea0d",
   "metadata": {},
   "outputs": [
    {
     "data": {
      "text/html": [
       "<div>\n",
       "<style scoped>\n",
       "    .dataframe tbody tr th:only-of-type {\n",
       "        vertical-align: middle;\n",
       "    }\n",
       "\n",
       "    .dataframe tbody tr th {\n",
       "        vertical-align: top;\n",
       "    }\n",
       "\n",
       "    .dataframe thead th {\n",
       "        text-align: right;\n",
       "    }\n",
       "</style>\n",
       "<table border=\"1\" class=\"dataframe\">\n",
       "  <thead>\n",
       "    <tr style=\"text-align: right;\">\n",
       "      <th></th>\n",
       "      <th>Company</th>\n",
       "      <th>Revenue ($M)</th>\n",
       "      <th>Profit Margin (%)</th>\n",
       "      <th>Industry</th>\n",
       "      <th>CEO</th>\n",
       "      <th>Employees</th>\n",
       "      <th>Stock Price</th>\n",
       "      <th>HQ City</th>\n",
       "      <th>Founded Year</th>\n",
       "      <th>Market Cap ($B)</th>\n",
       "      <th>Ticker Symbol</th>\n",
       "      <th>Debt ($M)</th>\n",
       "    </tr>\n",
       "  </thead>\n",
       "  <tbody>\n",
       "    <tr>\n",
       "      <th>0</th>\n",
       "      <td>ABC Corp</td>\n",
       "      <td>100.0</td>\n",
       "      <td>10.0</td>\n",
       "      <td>Banking</td>\n",
       "      <td>John Doe</td>\n",
       "      <td>500.0</td>\n",
       "      <td>50.5</td>\n",
       "      <td>New York</td>\n",
       "      <td>1990.0</td>\n",
       "      <td>2.5</td>\n",
       "      <td>ABC</td>\n",
       "      <td>500.0</td>\n",
       "    </tr>\n",
       "    <tr>\n",
       "      <th>1</th>\n",
       "      <td>XYZ Inc</td>\n",
       "      <td>200.0</td>\n",
       "      <td>-5.0</td>\n",
       "      <td>Insurance</td>\n",
       "      <td>Jane Smith</td>\n",
       "      <td>454.0</td>\n",
       "      <td>NaN</td>\n",
       "      <td>London</td>\n",
       "      <td>1985.0</td>\n",
       "      <td>5.0</td>\n",
       "      <td>XYZ</td>\n",
       "      <td>NaN</td>\n",
       "    </tr>\n",
       "    <tr>\n",
       "      <th>2</th>\n",
       "      <td>PQR Ltd</td>\n",
       "      <td>175.0</td>\n",
       "      <td>10.5</td>\n",
       "      <td>Banking</td>\n",
       "      <td>Alan Brown</td>\n",
       "      <td>120.0</td>\n",
       "      <td>40.0</td>\n",
       "      <td>None</td>\n",
       "      <td>2000.0</td>\n",
       "      <td>1.2</td>\n",
       "      <td>None</td>\n",
       "      <td>300.0</td>\n",
       "    </tr>\n",
       "    <tr>\n",
       "      <th>3</th>\n",
       "      <td>123 Corp</td>\n",
       "      <td>150.0</td>\n",
       "      <td>8.0</td>\n",
       "      <td>Investment</td>\n",
       "      <td>Mark Lee</td>\n",
       "      <td>450.0</td>\n",
       "      <td>NaN</td>\n",
       "      <td>Toronto</td>\n",
       "      <td>NaN</td>\n",
       "      <td>3.0</td>\n",
       "      <td>123</td>\n",
       "      <td>NaN</td>\n",
       "    </tr>\n",
       "    <tr>\n",
       "      <th>4</th>\n",
       "      <td>Shayan Enterprises</td>\n",
       "      <td>100.0</td>\n",
       "      <td>20.0</td>\n",
       "      <td>Insurance</td>\n",
       "      <td>Unkown</td>\n",
       "      <td>700.0</td>\n",
       "      <td>25.0</td>\n",
       "      <td>Paris</td>\n",
       "      <td>1995.0</td>\n",
       "      <td>1.5</td>\n",
       "      <td>INS</td>\n",
       "      <td>200.0</td>\n",
       "    </tr>\n",
       "    <tr>\n",
       "      <th>5</th>\n",
       "      <td>TechCorp</td>\n",
       "      <td>200.0</td>\n",
       "      <td>5.0</td>\n",
       "      <td>Banking</td>\n",
       "      <td>John Doe</td>\n",
       "      <td>500.0</td>\n",
       "      <td>50.5</td>\n",
       "      <td>New York</td>\n",
       "      <td>1990.0</td>\n",
       "      <td>NaN</td>\n",
       "      <td>ABC</td>\n",
       "      <td>500.0</td>\n",
       "    </tr>\n",
       "    <tr>\n",
       "      <th>6</th>\n",
       "      <td>LMN Inc</td>\n",
       "      <td>300.0</td>\n",
       "      <td>25.0</td>\n",
       "      <td>Banking</td>\n",
       "      <td>Sarah Davis</td>\n",
       "      <td>454.0</td>\n",
       "      <td>60.0</td>\n",
       "      <td>New York</td>\n",
       "      <td>NaN</td>\n",
       "      <td>4.0</td>\n",
       "      <td>LMN</td>\n",
       "      <td>NaN</td>\n",
       "    </tr>\n",
       "  </tbody>\n",
       "</table>\n",
       "</div>"
      ],
      "text/plain": [
       "              Company  Revenue ($M)  Profit Margin (%)    Industry  \\\n",
       "0            ABC Corp         100.0               10.0     Banking   \n",
       "1             XYZ Inc         200.0               -5.0   Insurance   \n",
       "2             PQR Ltd         175.0               10.5     Banking   \n",
       "3            123 Corp         150.0                8.0  Investment   \n",
       "4  Shayan Enterprises         100.0               20.0   Insurance   \n",
       "5            TechCorp         200.0                5.0     Banking   \n",
       "6             LMN Inc         300.0               25.0     Banking   \n",
       "\n",
       "           CEO  Employees  Stock Price   HQ City  Founded Year  \\\n",
       "0     John Doe      500.0         50.5  New York        1990.0   \n",
       "1   Jane Smith      454.0          NaN    London        1985.0   \n",
       "2   Alan Brown      120.0         40.0      None        2000.0   \n",
       "3     Mark Lee      450.0          NaN   Toronto           NaN   \n",
       "4       Unkown      700.0         25.0     Paris        1995.0   \n",
       "5     John Doe      500.0         50.5  New York        1990.0   \n",
       "6  Sarah Davis      454.0         60.0  New York           NaN   \n",
       "\n",
       "   Market Cap ($B) Ticker Symbol  Debt ($M)  \n",
       "0              2.5           ABC      500.0  \n",
       "1              5.0           XYZ        NaN  \n",
       "2              1.2          None      300.0  \n",
       "3              3.0           123        NaN  \n",
       "4              1.5           INS      200.0  \n",
       "5              NaN           ABC      500.0  \n",
       "6              4.0           LMN        NaN  "
      ]
     },
     "execution_count": 42,
     "metadata": {},
     "output_type": "execute_result"
    }
   ],
   "source": [
    "fd"
   ]
  },
  {
   "cell_type": "code",
   "execution_count": 43,
   "id": "fed6c35f-8f3e-4a8d-b53c-94eea2cd4a23",
   "metadata": {},
   "outputs": [
    {
     "data": {
      "text/plain": [
       "np.int64(0)"
      ]
     },
     "execution_count": 43,
     "metadata": {},
     "output_type": "execute_result"
    }
   ],
   "source": [
    "fd['Employees'].isnull().sum()"
   ]
  },
  {
   "cell_type": "markdown",
   "id": "2216e43b-2ee2-4d4b-a684-fae2a17a141c",
   "metadata": {
    "jp-MarkdownHeadingCollapsed": true
   },
   "source": [
    "### Stock Price Column Cleaning "
   ]
  },
  {
   "cell_type": "code",
   "execution_count": 44,
   "id": "eb66407f-9c37-473b-8fba-320409ab3c3f",
   "metadata": {},
   "outputs": [
    {
     "data": {
      "text/plain": [
       "np.int64(2)"
      ]
     },
     "execution_count": 44,
     "metadata": {},
     "output_type": "execute_result"
    }
   ],
   "source": [
    "fd[\"Stock Price\"].isnull().sum() # checking how many null values are in the stock price coulmn"
   ]
  },
  {
   "cell_type": "code",
   "execution_count": 45,
   "id": "399fedf2-d26a-4c75-b989-efeec208a3f1",
   "metadata": {},
   "outputs": [
    {
     "data": {
      "text/plain": [
       "count     5.000000\n",
       "mean     45.200000\n",
       "std      13.325727\n",
       "min      25.000000\n",
       "25%      40.000000\n",
       "50%      50.500000\n",
       "75%      50.500000\n",
       "max      60.000000\n",
       "Name: Stock Price, dtype: float64"
      ]
     },
     "execution_count": 45,
     "metadata": {},
     "output_type": "execute_result"
    }
   ],
   "source": [
    "fd[\"Stock Price\"].describe() # Numerical Statistics: count, mean, std (standard deviation), min, 25%, 50% (median), 75%, max.\n",
    "                             # Categorical Statistics: count, unique, top, freq"
   ]
  },
  {
   "cell_type": "code",
   "execution_count": 46,
   "id": "845839b9-6645-4e73-825d-b3eb534cc3e7",
   "metadata": {},
   "outputs": [
    {
     "name": "stderr",
     "output_type": "stream",
     "text": [
      "C:\\Users\\Shayyan\\AppData\\Local\\Temp\\ipykernel_7844\\4008008977.py:1: FutureWarning: A value is trying to be set on a copy of a DataFrame or Series through chained assignment using an inplace method.\n",
      "The behavior will change in pandas 3.0. This inplace method will never work because the intermediate object on which we are setting values always behaves as a copy.\n",
      "\n",
      "For example, when doing 'df[col].method(value, inplace=True)', try using 'df.method({col: value}, inplace=True)' or df[col] = df[col].method(value) instead, to perform the operation inplace on the original object.\n",
      "\n",
      "\n",
      "  fd['Stock Price'].interpolate(method='linear', inplace=True) # using the linear interpolation method\n"
     ]
    }
   ],
   "source": [
    "fd['Stock Price'].interpolate(method='linear', inplace=True) # using the linear interpolation method"
   ]
  },
  {
   "cell_type": "code",
   "execution_count": 47,
   "id": "8fa39439-dc39-45bd-8817-6b2bfcf0801c",
   "metadata": {},
   "outputs": [
    {
     "data": {
      "text/html": [
       "<div>\n",
       "<style scoped>\n",
       "    .dataframe tbody tr th:only-of-type {\n",
       "        vertical-align: middle;\n",
       "    }\n",
       "\n",
       "    .dataframe tbody tr th {\n",
       "        vertical-align: top;\n",
       "    }\n",
       "\n",
       "    .dataframe thead th {\n",
       "        text-align: right;\n",
       "    }\n",
       "</style>\n",
       "<table border=\"1\" class=\"dataframe\">\n",
       "  <thead>\n",
       "    <tr style=\"text-align: right;\">\n",
       "      <th></th>\n",
       "      <th>Company</th>\n",
       "      <th>Revenue ($M)</th>\n",
       "      <th>Profit Margin (%)</th>\n",
       "      <th>Industry</th>\n",
       "      <th>CEO</th>\n",
       "      <th>Employees</th>\n",
       "      <th>Stock Price</th>\n",
       "      <th>HQ City</th>\n",
       "      <th>Founded Year</th>\n",
       "      <th>Market Cap ($B)</th>\n",
       "      <th>Ticker Symbol</th>\n",
       "      <th>Debt ($M)</th>\n",
       "    </tr>\n",
       "  </thead>\n",
       "  <tbody>\n",
       "    <tr>\n",
       "      <th>0</th>\n",
       "      <td>ABC Corp</td>\n",
       "      <td>100.0</td>\n",
       "      <td>10.0</td>\n",
       "      <td>Banking</td>\n",
       "      <td>John Doe</td>\n",
       "      <td>500.0</td>\n",
       "      <td>50.50</td>\n",
       "      <td>New York</td>\n",
       "      <td>1990.0</td>\n",
       "      <td>2.5</td>\n",
       "      <td>ABC</td>\n",
       "      <td>500.0</td>\n",
       "    </tr>\n",
       "    <tr>\n",
       "      <th>1</th>\n",
       "      <td>XYZ Inc</td>\n",
       "      <td>200.0</td>\n",
       "      <td>-5.0</td>\n",
       "      <td>Insurance</td>\n",
       "      <td>Jane Smith</td>\n",
       "      <td>454.0</td>\n",
       "      <td>45.25</td>\n",
       "      <td>London</td>\n",
       "      <td>1985.0</td>\n",
       "      <td>5.0</td>\n",
       "      <td>XYZ</td>\n",
       "      <td>NaN</td>\n",
       "    </tr>\n",
       "    <tr>\n",
       "      <th>2</th>\n",
       "      <td>PQR Ltd</td>\n",
       "      <td>175.0</td>\n",
       "      <td>10.5</td>\n",
       "      <td>Banking</td>\n",
       "      <td>Alan Brown</td>\n",
       "      <td>120.0</td>\n",
       "      <td>40.00</td>\n",
       "      <td>None</td>\n",
       "      <td>2000.0</td>\n",
       "      <td>1.2</td>\n",
       "      <td>None</td>\n",
       "      <td>300.0</td>\n",
       "    </tr>\n",
       "    <tr>\n",
       "      <th>3</th>\n",
       "      <td>123 Corp</td>\n",
       "      <td>150.0</td>\n",
       "      <td>8.0</td>\n",
       "      <td>Investment</td>\n",
       "      <td>Mark Lee</td>\n",
       "      <td>450.0</td>\n",
       "      <td>32.50</td>\n",
       "      <td>Toronto</td>\n",
       "      <td>NaN</td>\n",
       "      <td>3.0</td>\n",
       "      <td>123</td>\n",
       "      <td>NaN</td>\n",
       "    </tr>\n",
       "    <tr>\n",
       "      <th>4</th>\n",
       "      <td>Shayan Enterprises</td>\n",
       "      <td>100.0</td>\n",
       "      <td>20.0</td>\n",
       "      <td>Insurance</td>\n",
       "      <td>Unkown</td>\n",
       "      <td>700.0</td>\n",
       "      <td>25.00</td>\n",
       "      <td>Paris</td>\n",
       "      <td>1995.0</td>\n",
       "      <td>1.5</td>\n",
       "      <td>INS</td>\n",
       "      <td>200.0</td>\n",
       "    </tr>\n",
       "    <tr>\n",
       "      <th>5</th>\n",
       "      <td>TechCorp</td>\n",
       "      <td>200.0</td>\n",
       "      <td>5.0</td>\n",
       "      <td>Banking</td>\n",
       "      <td>John Doe</td>\n",
       "      <td>500.0</td>\n",
       "      <td>50.50</td>\n",
       "      <td>New York</td>\n",
       "      <td>1990.0</td>\n",
       "      <td>NaN</td>\n",
       "      <td>ABC</td>\n",
       "      <td>500.0</td>\n",
       "    </tr>\n",
       "    <tr>\n",
       "      <th>6</th>\n",
       "      <td>LMN Inc</td>\n",
       "      <td>300.0</td>\n",
       "      <td>25.0</td>\n",
       "      <td>Banking</td>\n",
       "      <td>Sarah Davis</td>\n",
       "      <td>454.0</td>\n",
       "      <td>60.00</td>\n",
       "      <td>New York</td>\n",
       "      <td>NaN</td>\n",
       "      <td>4.0</td>\n",
       "      <td>LMN</td>\n",
       "      <td>NaN</td>\n",
       "    </tr>\n",
       "  </tbody>\n",
       "</table>\n",
       "</div>"
      ],
      "text/plain": [
       "              Company  Revenue ($M)  Profit Margin (%)    Industry  \\\n",
       "0            ABC Corp         100.0               10.0     Banking   \n",
       "1             XYZ Inc         200.0               -5.0   Insurance   \n",
       "2             PQR Ltd         175.0               10.5     Banking   \n",
       "3            123 Corp         150.0                8.0  Investment   \n",
       "4  Shayan Enterprises         100.0               20.0   Insurance   \n",
       "5            TechCorp         200.0                5.0     Banking   \n",
       "6             LMN Inc         300.0               25.0     Banking   \n",
       "\n",
       "           CEO  Employees  Stock Price   HQ City  Founded Year  \\\n",
       "0     John Doe      500.0        50.50  New York        1990.0   \n",
       "1   Jane Smith      454.0        45.25    London        1985.0   \n",
       "2   Alan Brown      120.0        40.00      None        2000.0   \n",
       "3     Mark Lee      450.0        32.50   Toronto           NaN   \n",
       "4       Unkown      700.0        25.00     Paris        1995.0   \n",
       "5     John Doe      500.0        50.50  New York        1990.0   \n",
       "6  Sarah Davis      454.0        60.00  New York           NaN   \n",
       "\n",
       "   Market Cap ($B) Ticker Symbol  Debt ($M)  \n",
       "0              2.5           ABC      500.0  \n",
       "1              5.0           XYZ        NaN  \n",
       "2              1.2          None      300.0  \n",
       "3              3.0           123        NaN  \n",
       "4              1.5           INS      200.0  \n",
       "5              NaN           ABC      500.0  \n",
       "6              4.0           LMN        NaN  "
      ]
     },
     "execution_count": 47,
     "metadata": {},
     "output_type": "execute_result"
    }
   ],
   "source": [
    "fd"
   ]
  },
  {
   "cell_type": "code",
   "execution_count": 48,
   "id": "12f96725-b1ac-4460-91bd-055b37de7e39",
   "metadata": {},
   "outputs": [
    {
     "data": {
      "text/plain": [
       "np.int64(0)"
      ]
     },
     "execution_count": 48,
     "metadata": {},
     "output_type": "execute_result"
    }
   ],
   "source": [
    "fd['Stock Price'].isnull().sum()# checking again"
   ]
  },
  {
   "cell_type": "markdown",
   "id": "dd2143f4-ddfe-492b-81d5-c5c3a4ecdf65",
   "metadata": {
    "jp-MarkdownHeadingCollapsed": true
   },
   "source": [
    "### HQ City Column Cleaning"
   ]
  },
  {
   "cell_type": "code",
   "execution_count": 49,
   "id": "6f6b2572-fa53-4575-b24c-e469a34963f3",
   "metadata": {},
   "outputs": [
    {
     "data": {
      "text/plain": [
       "array(['New York', 'London', None, 'Toronto', 'Paris'], dtype=object)"
      ]
     },
     "execution_count": 49,
     "metadata": {},
     "output_type": "execute_result"
    }
   ],
   "source": [
    "fd['HQ City'].unique()"
   ]
  },
  {
   "cell_type": "code",
   "execution_count": 50,
   "id": "102c8f5d-ca16-4f5f-9862-918987e0851e",
   "metadata": {},
   "outputs": [
    {
     "data": {
      "text/plain": [
       "dtype('O')"
      ]
     },
     "execution_count": 50,
     "metadata": {},
     "output_type": "execute_result"
    }
   ],
   "source": [
    "fd['HQ City'].dtype "
   ]
  },
  {
   "cell_type": "code",
   "execution_count": 51,
   "id": "78fe642a-658f-4bb8-aff4-0a32525356ac",
   "metadata": {},
   "outputs": [
    {
     "data": {
      "text/plain": [
       "<bound method Series.info of 0    New York\n",
       "1      London\n",
       "2        None\n",
       "3     Toronto\n",
       "4       Paris\n",
       "5    New York\n",
       "6    New York\n",
       "Name: HQ City, dtype: object>"
      ]
     },
     "execution_count": 51,
     "metadata": {},
     "output_type": "execute_result"
    }
   ],
   "source": [
    "fd['HQ City'].info"
   ]
  },
  {
   "cell_type": "code",
   "execution_count": 52,
   "id": "ea6c336d-7ab7-47ed-91b9-e8aa55e15ff6",
   "metadata": {},
   "outputs": [
    {
     "data": {
      "text/plain": [
       "count            6\n",
       "unique           4\n",
       "top       New York\n",
       "freq             3\n",
       "Name: HQ City, dtype: object"
      ]
     },
     "execution_count": 52,
     "metadata": {},
     "output_type": "execute_result"
    }
   ],
   "source": [
    "fd['HQ City'].describe() # Seeing which is the most Frequent Value "
   ]
  },
  {
   "cell_type": "code",
   "execution_count": 53,
   "id": "87f61a6b-173a-4648-ab46-728d7d75d7af",
   "metadata": {},
   "outputs": [],
   "source": [
    "fd['HQ City'] = fd['HQ City'].fillna(\"New York\") # Filling the missing value with the most frequent values"
   ]
  },
  {
   "cell_type": "code",
   "execution_count": 54,
   "id": "c327da9a-0efd-4b77-b951-f80c1dfcaa0f",
   "metadata": {},
   "outputs": [
    {
     "data": {
      "text/html": [
       "<div>\n",
       "<style scoped>\n",
       "    .dataframe tbody tr th:only-of-type {\n",
       "        vertical-align: middle;\n",
       "    }\n",
       "\n",
       "    .dataframe tbody tr th {\n",
       "        vertical-align: top;\n",
       "    }\n",
       "\n",
       "    .dataframe thead th {\n",
       "        text-align: right;\n",
       "    }\n",
       "</style>\n",
       "<table border=\"1\" class=\"dataframe\">\n",
       "  <thead>\n",
       "    <tr style=\"text-align: right;\">\n",
       "      <th></th>\n",
       "      <th>Company</th>\n",
       "      <th>Revenue ($M)</th>\n",
       "      <th>Profit Margin (%)</th>\n",
       "      <th>Industry</th>\n",
       "      <th>CEO</th>\n",
       "      <th>Employees</th>\n",
       "      <th>Stock Price</th>\n",
       "      <th>HQ City</th>\n",
       "      <th>Founded Year</th>\n",
       "      <th>Market Cap ($B)</th>\n",
       "      <th>Ticker Symbol</th>\n",
       "      <th>Debt ($M)</th>\n",
       "    </tr>\n",
       "  </thead>\n",
       "  <tbody>\n",
       "    <tr>\n",
       "      <th>0</th>\n",
       "      <td>ABC Corp</td>\n",
       "      <td>100.0</td>\n",
       "      <td>10.0</td>\n",
       "      <td>Banking</td>\n",
       "      <td>John Doe</td>\n",
       "      <td>500.0</td>\n",
       "      <td>50.50</td>\n",
       "      <td>New York</td>\n",
       "      <td>1990.0</td>\n",
       "      <td>2.5</td>\n",
       "      <td>ABC</td>\n",
       "      <td>500.0</td>\n",
       "    </tr>\n",
       "    <tr>\n",
       "      <th>1</th>\n",
       "      <td>XYZ Inc</td>\n",
       "      <td>200.0</td>\n",
       "      <td>-5.0</td>\n",
       "      <td>Insurance</td>\n",
       "      <td>Jane Smith</td>\n",
       "      <td>454.0</td>\n",
       "      <td>45.25</td>\n",
       "      <td>London</td>\n",
       "      <td>1985.0</td>\n",
       "      <td>5.0</td>\n",
       "      <td>XYZ</td>\n",
       "      <td>NaN</td>\n",
       "    </tr>\n",
       "    <tr>\n",
       "      <th>2</th>\n",
       "      <td>PQR Ltd</td>\n",
       "      <td>175.0</td>\n",
       "      <td>10.5</td>\n",
       "      <td>Banking</td>\n",
       "      <td>Alan Brown</td>\n",
       "      <td>120.0</td>\n",
       "      <td>40.00</td>\n",
       "      <td>New York</td>\n",
       "      <td>2000.0</td>\n",
       "      <td>1.2</td>\n",
       "      <td>None</td>\n",
       "      <td>300.0</td>\n",
       "    </tr>\n",
       "    <tr>\n",
       "      <th>3</th>\n",
       "      <td>123 Corp</td>\n",
       "      <td>150.0</td>\n",
       "      <td>8.0</td>\n",
       "      <td>Investment</td>\n",
       "      <td>Mark Lee</td>\n",
       "      <td>450.0</td>\n",
       "      <td>32.50</td>\n",
       "      <td>Toronto</td>\n",
       "      <td>NaN</td>\n",
       "      <td>3.0</td>\n",
       "      <td>123</td>\n",
       "      <td>NaN</td>\n",
       "    </tr>\n",
       "    <tr>\n",
       "      <th>4</th>\n",
       "      <td>Shayan Enterprises</td>\n",
       "      <td>100.0</td>\n",
       "      <td>20.0</td>\n",
       "      <td>Insurance</td>\n",
       "      <td>Unkown</td>\n",
       "      <td>700.0</td>\n",
       "      <td>25.00</td>\n",
       "      <td>Paris</td>\n",
       "      <td>1995.0</td>\n",
       "      <td>1.5</td>\n",
       "      <td>INS</td>\n",
       "      <td>200.0</td>\n",
       "    </tr>\n",
       "    <tr>\n",
       "      <th>5</th>\n",
       "      <td>TechCorp</td>\n",
       "      <td>200.0</td>\n",
       "      <td>5.0</td>\n",
       "      <td>Banking</td>\n",
       "      <td>John Doe</td>\n",
       "      <td>500.0</td>\n",
       "      <td>50.50</td>\n",
       "      <td>New York</td>\n",
       "      <td>1990.0</td>\n",
       "      <td>NaN</td>\n",
       "      <td>ABC</td>\n",
       "      <td>500.0</td>\n",
       "    </tr>\n",
       "    <tr>\n",
       "      <th>6</th>\n",
       "      <td>LMN Inc</td>\n",
       "      <td>300.0</td>\n",
       "      <td>25.0</td>\n",
       "      <td>Banking</td>\n",
       "      <td>Sarah Davis</td>\n",
       "      <td>454.0</td>\n",
       "      <td>60.00</td>\n",
       "      <td>New York</td>\n",
       "      <td>NaN</td>\n",
       "      <td>4.0</td>\n",
       "      <td>LMN</td>\n",
       "      <td>NaN</td>\n",
       "    </tr>\n",
       "  </tbody>\n",
       "</table>\n",
       "</div>"
      ],
      "text/plain": [
       "              Company  Revenue ($M)  Profit Margin (%)    Industry  \\\n",
       "0            ABC Corp         100.0               10.0     Banking   \n",
       "1             XYZ Inc         200.0               -5.0   Insurance   \n",
       "2             PQR Ltd         175.0               10.5     Banking   \n",
       "3            123 Corp         150.0                8.0  Investment   \n",
       "4  Shayan Enterprises         100.0               20.0   Insurance   \n",
       "5            TechCorp         200.0                5.0     Banking   \n",
       "6             LMN Inc         300.0               25.0     Banking   \n",
       "\n",
       "           CEO  Employees  Stock Price   HQ City  Founded Year  \\\n",
       "0     John Doe      500.0        50.50  New York        1990.0   \n",
       "1   Jane Smith      454.0        45.25    London        1985.0   \n",
       "2   Alan Brown      120.0        40.00  New York        2000.0   \n",
       "3     Mark Lee      450.0        32.50   Toronto           NaN   \n",
       "4       Unkown      700.0        25.00     Paris        1995.0   \n",
       "5     John Doe      500.0        50.50  New York        1990.0   \n",
       "6  Sarah Davis      454.0        60.00  New York           NaN   \n",
       "\n",
       "   Market Cap ($B) Ticker Symbol  Debt ($M)  \n",
       "0              2.5           ABC      500.0  \n",
       "1              5.0           XYZ        NaN  \n",
       "2              1.2          None      300.0  \n",
       "3              3.0           123        NaN  \n",
       "4              1.5           INS      200.0  \n",
       "5              NaN           ABC      500.0  \n",
       "6              4.0           LMN        NaN  "
      ]
     },
     "execution_count": 54,
     "metadata": {},
     "output_type": "execute_result"
    }
   ],
   "source": [
    "fd"
   ]
  },
  {
   "cell_type": "code",
   "execution_count": 55,
   "id": "d13a3428-dd28-4d45-bd4c-7b7e8d65300a",
   "metadata": {},
   "outputs": [
    {
     "data": {
      "text/plain": [
       "np.int64(0)"
      ]
     },
     "execution_count": 55,
     "metadata": {},
     "output_type": "execute_result"
    }
   ],
   "source": [
    "fd['HQ City'].isnull().sum() # Checking again"
   ]
  },
  {
   "cell_type": "markdown",
   "id": "863da428-52b5-45aa-926d-6e52a35e0920",
   "metadata": {
    "jp-MarkdownHeadingCollapsed": true
   },
   "source": [
    "### Founded Year Column Cleaning"
   ]
  },
  {
   "cell_type": "code",
   "execution_count": 56,
   "id": "c7508f34-0b48-4fdf-a054-446ae02a1b59",
   "metadata": {},
   "outputs": [
    {
     "data": {
      "text/plain": [
       "array([1990., 1985., 2000.,   nan, 1995.])"
      ]
     },
     "execution_count": 56,
     "metadata": {},
     "output_type": "execute_result"
    }
   ],
   "source": [
    "fd[\"Founded Year\"].unique()"
   ]
  },
  {
   "cell_type": "code",
   "execution_count": 57,
   "id": "486a94fe-11e5-40a6-af14-1c5c47d3a90f",
   "metadata": {},
   "outputs": [
    {
     "data": {
      "text/plain": [
       "np.int64(2)"
      ]
     },
     "execution_count": 57,
     "metadata": {},
     "output_type": "execute_result"
    }
   ],
   "source": [
    "fd[\"Founded Year\"].isnull().sum() # checking how many null values are their in the column"
   ]
  },
  {
   "cell_type": "code",
   "execution_count": 58,
   "id": "6610336b-6084-4626-84a0-949463d66099",
   "metadata": {},
   "outputs": [
    {
     "data": {
      "text/plain": [
       "count       5.000000\n",
       "mean     1992.000000\n",
       "std         5.700877\n",
       "min      1985.000000\n",
       "25%      1990.000000\n",
       "50%      1990.000000\n",
       "75%      1995.000000\n",
       "max      2000.000000\n",
       "Name: Founded Year, dtype: float64"
      ]
     },
     "execution_count": 58,
     "metadata": {},
     "output_type": "execute_result"
    }
   ],
   "source": [
    "fd[\"Founded Year\"].describe()# Numerical Statistics: count, mean, std (standard deviation), min, 25%, 50% (median), 75%, max.\n",
    "                             # Categorical Statistics: count, unique, top, freq"
   ]
  },
  {
   "cell_type": "code",
   "execution_count": 59,
   "id": "d8cae249-d319-4539-b38c-c2f5673acd4c",
   "metadata": {},
   "outputs": [],
   "source": [
    "fd[\"Founded Year\"] = fd[\"Founded Year\"].fillna(1992.0) # Filling the null values with central tendency mean"
   ]
  },
  {
   "cell_type": "code",
   "execution_count": 60,
   "id": "3dca7df7-3a53-4b37-943f-8a0fbad37d3f",
   "metadata": {},
   "outputs": [
    {
     "data": {
      "text/plain": [
       "0    1990.0\n",
       "1    1985.0\n",
       "2    2000.0\n",
       "3    1992.0\n",
       "4    1995.0\n",
       "5    1990.0\n",
       "6    1992.0\n",
       "Name: Founded Year, dtype: float64"
      ]
     },
     "execution_count": 60,
     "metadata": {},
     "output_type": "execute_result"
    }
   ],
   "source": [
    "fd[\"Founded Year\"]"
   ]
  },
  {
   "cell_type": "markdown",
   "id": "d085b9da-cb1d-41fe-971d-a36a09cf3932",
   "metadata": {
    "jp-MarkdownHeadingCollapsed": true
   },
   "source": [
    "### Market Cap ($B) Column Cleaning"
   ]
  },
  {
   "cell_type": "code",
   "execution_count": 61,
   "id": "80f9b9da-a197-4eb0-bfb3-7dc7e42ecec3",
   "metadata": {},
   "outputs": [
    {
     "data": {
      "text/plain": [
       "count    6.000000\n",
       "mean     2.866667\n",
       "std      1.458310\n",
       "min      1.200000\n",
       "25%      1.750000\n",
       "50%      2.750000\n",
       "75%      3.750000\n",
       "max      5.000000\n",
       "Name: Market Cap ($B), dtype: float64"
      ]
     },
     "execution_count": 61,
     "metadata": {},
     "output_type": "execute_result"
    }
   ],
   "source": [
    "fd[\"Market Cap ($B)\"].describe()"
   ]
  },
  {
   "cell_type": "code",
   "execution_count": 62,
   "id": "dffb30b0-5fb6-4dee-be0e-e0753a50288b",
   "metadata": {},
   "outputs": [
    {
     "data": {
      "text/plain": [
       "np.int64(1)"
      ]
     },
     "execution_count": 62,
     "metadata": {},
     "output_type": "execute_result"
    }
   ],
   "source": [
    "fd[\"Market Cap ($B)\"].isnull().sum()"
   ]
  },
  {
   "cell_type": "code",
   "execution_count": 63,
   "id": "0963cc4a-344f-475c-aaae-cef3bee14615",
   "metadata": {},
   "outputs": [],
   "source": [
    "fd[\"Market Cap ($B)\"] =fd[\"Market Cap ($B)\"].fillna(2.8) #filling the missing values with the central tendency mean"
   ]
  },
  {
   "cell_type": "code",
   "execution_count": 64,
   "id": "57a7e042-a1d2-45b7-871c-c27bde19aeff",
   "metadata": {},
   "outputs": [
    {
     "data": {
      "text/plain": [
       "np.int64(0)"
      ]
     },
     "execution_count": 64,
     "metadata": {},
     "output_type": "execute_result"
    }
   ],
   "source": [
    "fd[\"Market Cap ($B)\"].isnull().sum()"
   ]
  },
  {
   "cell_type": "code",
   "execution_count": 65,
   "id": "54ddfadc-956c-4eee-b861-bc419601ba63",
   "metadata": {},
   "outputs": [
    {
     "data": {
      "text/html": [
       "<div>\n",
       "<style scoped>\n",
       "    .dataframe tbody tr th:only-of-type {\n",
       "        vertical-align: middle;\n",
       "    }\n",
       "\n",
       "    .dataframe tbody tr th {\n",
       "        vertical-align: top;\n",
       "    }\n",
       "\n",
       "    .dataframe thead th {\n",
       "        text-align: right;\n",
       "    }\n",
       "</style>\n",
       "<table border=\"1\" class=\"dataframe\">\n",
       "  <thead>\n",
       "    <tr style=\"text-align: right;\">\n",
       "      <th></th>\n",
       "      <th>Company</th>\n",
       "      <th>Revenue ($M)</th>\n",
       "      <th>Profit Margin (%)</th>\n",
       "      <th>Industry</th>\n",
       "      <th>CEO</th>\n",
       "      <th>Employees</th>\n",
       "      <th>Stock Price</th>\n",
       "      <th>HQ City</th>\n",
       "      <th>Founded Year</th>\n",
       "      <th>Market Cap ($B)</th>\n",
       "      <th>Ticker Symbol</th>\n",
       "      <th>Debt ($M)</th>\n",
       "    </tr>\n",
       "  </thead>\n",
       "  <tbody>\n",
       "    <tr>\n",
       "      <th>0</th>\n",
       "      <td>ABC Corp</td>\n",
       "      <td>100.0</td>\n",
       "      <td>10.0</td>\n",
       "      <td>Banking</td>\n",
       "      <td>John Doe</td>\n",
       "      <td>500.0</td>\n",
       "      <td>50.50</td>\n",
       "      <td>New York</td>\n",
       "      <td>1990.0</td>\n",
       "      <td>2.5</td>\n",
       "      <td>ABC</td>\n",
       "      <td>500.0</td>\n",
       "    </tr>\n",
       "    <tr>\n",
       "      <th>1</th>\n",
       "      <td>XYZ Inc</td>\n",
       "      <td>200.0</td>\n",
       "      <td>-5.0</td>\n",
       "      <td>Insurance</td>\n",
       "      <td>Jane Smith</td>\n",
       "      <td>454.0</td>\n",
       "      <td>45.25</td>\n",
       "      <td>London</td>\n",
       "      <td>1985.0</td>\n",
       "      <td>5.0</td>\n",
       "      <td>XYZ</td>\n",
       "      <td>NaN</td>\n",
       "    </tr>\n",
       "    <tr>\n",
       "      <th>2</th>\n",
       "      <td>PQR Ltd</td>\n",
       "      <td>175.0</td>\n",
       "      <td>10.5</td>\n",
       "      <td>Banking</td>\n",
       "      <td>Alan Brown</td>\n",
       "      <td>120.0</td>\n",
       "      <td>40.00</td>\n",
       "      <td>New York</td>\n",
       "      <td>2000.0</td>\n",
       "      <td>1.2</td>\n",
       "      <td>None</td>\n",
       "      <td>300.0</td>\n",
       "    </tr>\n",
       "    <tr>\n",
       "      <th>3</th>\n",
       "      <td>123 Corp</td>\n",
       "      <td>150.0</td>\n",
       "      <td>8.0</td>\n",
       "      <td>Investment</td>\n",
       "      <td>Mark Lee</td>\n",
       "      <td>450.0</td>\n",
       "      <td>32.50</td>\n",
       "      <td>Toronto</td>\n",
       "      <td>1992.0</td>\n",
       "      <td>3.0</td>\n",
       "      <td>123</td>\n",
       "      <td>NaN</td>\n",
       "    </tr>\n",
       "    <tr>\n",
       "      <th>4</th>\n",
       "      <td>Shayan Enterprises</td>\n",
       "      <td>100.0</td>\n",
       "      <td>20.0</td>\n",
       "      <td>Insurance</td>\n",
       "      <td>Unkown</td>\n",
       "      <td>700.0</td>\n",
       "      <td>25.00</td>\n",
       "      <td>Paris</td>\n",
       "      <td>1995.0</td>\n",
       "      <td>1.5</td>\n",
       "      <td>INS</td>\n",
       "      <td>200.0</td>\n",
       "    </tr>\n",
       "    <tr>\n",
       "      <th>5</th>\n",
       "      <td>TechCorp</td>\n",
       "      <td>200.0</td>\n",
       "      <td>5.0</td>\n",
       "      <td>Banking</td>\n",
       "      <td>John Doe</td>\n",
       "      <td>500.0</td>\n",
       "      <td>50.50</td>\n",
       "      <td>New York</td>\n",
       "      <td>1990.0</td>\n",
       "      <td>2.8</td>\n",
       "      <td>ABC</td>\n",
       "      <td>500.0</td>\n",
       "    </tr>\n",
       "    <tr>\n",
       "      <th>6</th>\n",
       "      <td>LMN Inc</td>\n",
       "      <td>300.0</td>\n",
       "      <td>25.0</td>\n",
       "      <td>Banking</td>\n",
       "      <td>Sarah Davis</td>\n",
       "      <td>454.0</td>\n",
       "      <td>60.00</td>\n",
       "      <td>New York</td>\n",
       "      <td>1992.0</td>\n",
       "      <td>4.0</td>\n",
       "      <td>LMN</td>\n",
       "      <td>NaN</td>\n",
       "    </tr>\n",
       "  </tbody>\n",
       "</table>\n",
       "</div>"
      ],
      "text/plain": [
       "              Company  Revenue ($M)  Profit Margin (%)    Industry  \\\n",
       "0            ABC Corp         100.0               10.0     Banking   \n",
       "1             XYZ Inc         200.0               -5.0   Insurance   \n",
       "2             PQR Ltd         175.0               10.5     Banking   \n",
       "3            123 Corp         150.0                8.0  Investment   \n",
       "4  Shayan Enterprises         100.0               20.0   Insurance   \n",
       "5            TechCorp         200.0                5.0     Banking   \n",
       "6             LMN Inc         300.0               25.0     Banking   \n",
       "\n",
       "           CEO  Employees  Stock Price   HQ City  Founded Year  \\\n",
       "0     John Doe      500.0        50.50  New York        1990.0   \n",
       "1   Jane Smith      454.0        45.25    London        1985.0   \n",
       "2   Alan Brown      120.0        40.00  New York        2000.0   \n",
       "3     Mark Lee      450.0        32.50   Toronto        1992.0   \n",
       "4       Unkown      700.0        25.00     Paris        1995.0   \n",
       "5     John Doe      500.0        50.50  New York        1990.0   \n",
       "6  Sarah Davis      454.0        60.00  New York        1992.0   \n",
       "\n",
       "   Market Cap ($B) Ticker Symbol  Debt ($M)  \n",
       "0              2.5           ABC      500.0  \n",
       "1              5.0           XYZ        NaN  \n",
       "2              1.2          None      300.0  \n",
       "3              3.0           123        NaN  \n",
       "4              1.5           INS      200.0  \n",
       "5              2.8           ABC      500.0  \n",
       "6              4.0           LMN        NaN  "
      ]
     },
     "execution_count": 65,
     "metadata": {},
     "output_type": "execute_result"
    }
   ],
   "source": [
    "fd"
   ]
  },
  {
   "cell_type": "markdown",
   "id": "48cfcfbd-bb4c-45af-8d8d-68382bea053a",
   "metadata": {
    "jp-MarkdownHeadingCollapsed": true
   },
   "source": [
    "### Ticker Symbol Column Cleaning"
   ]
  },
  {
   "cell_type": "code",
   "execution_count": 66,
   "id": "2e0ca199-9369-4dc2-b46b-1f9f0d80d909",
   "metadata": {},
   "outputs": [
    {
     "data": {
      "text/plain": [
       "dtype('O')"
      ]
     },
     "execution_count": 66,
     "metadata": {},
     "output_type": "execute_result"
    }
   ],
   "source": [
    "fd['Ticker Symbol'].dtypes"
   ]
  },
  {
   "cell_type": "code",
   "execution_count": 77,
   "id": "579e7ab3-969c-4ed5-82c4-4945af3baae4",
   "metadata": {},
   "outputs": [
    {
     "data": {
      "text/plain": [
       "np.int64(0)"
      ]
     },
     "execution_count": 77,
     "metadata": {},
     "output_type": "execute_result"
    }
   ],
   "source": [
    "fd[\"Ticker Symbol\"].isnull().sum() # Checking how many missing values in that column"
   ]
  },
  {
   "cell_type": "code",
   "execution_count": 67,
   "id": "1e361ac7-8ab4-423f-98be-f6bc59addc84",
   "metadata": {},
   "outputs": [
    {
     "data": {
      "text/plain": [
       "array(['ABC', 'XYZ', None, '123', 'INS', 'LMN'], dtype=object)"
      ]
     },
     "execution_count": 67,
     "metadata": {},
     "output_type": "execute_result"
    }
   ],
   "source": [
    "fd['Ticker Symbol'].unique()"
   ]
  },
  {
   "cell_type": "code",
   "execution_count": 68,
   "id": "c9aaf274-4d1a-4821-bc97-159d4f58768b",
   "metadata": {},
   "outputs": [],
   "source": [
    "fd['Ticker Symbol'] = fd['Ticker Symbol'].fillna(\"N/A\") # fill the nan or missing values in this column by N/A"
   ]
  },
  {
   "cell_type": "code",
   "execution_count": 69,
   "id": "d9b7fcd2-68a2-48b7-a7bc-f61797b81fab",
   "metadata": {},
   "outputs": [
    {
     "data": {
      "text/html": [
       "<div>\n",
       "<style scoped>\n",
       "    .dataframe tbody tr th:only-of-type {\n",
       "        vertical-align: middle;\n",
       "    }\n",
       "\n",
       "    .dataframe tbody tr th {\n",
       "        vertical-align: top;\n",
       "    }\n",
       "\n",
       "    .dataframe thead th {\n",
       "        text-align: right;\n",
       "    }\n",
       "</style>\n",
       "<table border=\"1\" class=\"dataframe\">\n",
       "  <thead>\n",
       "    <tr style=\"text-align: right;\">\n",
       "      <th></th>\n",
       "      <th>Company</th>\n",
       "      <th>Revenue ($M)</th>\n",
       "      <th>Profit Margin (%)</th>\n",
       "      <th>Industry</th>\n",
       "      <th>CEO</th>\n",
       "      <th>Employees</th>\n",
       "      <th>Stock Price</th>\n",
       "      <th>HQ City</th>\n",
       "      <th>Founded Year</th>\n",
       "      <th>Market Cap ($B)</th>\n",
       "      <th>Ticker Symbol</th>\n",
       "      <th>Debt ($M)</th>\n",
       "    </tr>\n",
       "  </thead>\n",
       "  <tbody>\n",
       "    <tr>\n",
       "      <th>0</th>\n",
       "      <td>ABC Corp</td>\n",
       "      <td>100.0</td>\n",
       "      <td>10.0</td>\n",
       "      <td>Banking</td>\n",
       "      <td>John Doe</td>\n",
       "      <td>500.0</td>\n",
       "      <td>50.50</td>\n",
       "      <td>New York</td>\n",
       "      <td>1990.0</td>\n",
       "      <td>2.5</td>\n",
       "      <td>ABC</td>\n",
       "      <td>500.0</td>\n",
       "    </tr>\n",
       "    <tr>\n",
       "      <th>1</th>\n",
       "      <td>XYZ Inc</td>\n",
       "      <td>200.0</td>\n",
       "      <td>-5.0</td>\n",
       "      <td>Insurance</td>\n",
       "      <td>Jane Smith</td>\n",
       "      <td>454.0</td>\n",
       "      <td>45.25</td>\n",
       "      <td>London</td>\n",
       "      <td>1985.0</td>\n",
       "      <td>5.0</td>\n",
       "      <td>XYZ</td>\n",
       "      <td>NaN</td>\n",
       "    </tr>\n",
       "    <tr>\n",
       "      <th>2</th>\n",
       "      <td>PQR Ltd</td>\n",
       "      <td>175.0</td>\n",
       "      <td>10.5</td>\n",
       "      <td>Banking</td>\n",
       "      <td>Alan Brown</td>\n",
       "      <td>120.0</td>\n",
       "      <td>40.00</td>\n",
       "      <td>New York</td>\n",
       "      <td>2000.0</td>\n",
       "      <td>1.2</td>\n",
       "      <td>N/A</td>\n",
       "      <td>300.0</td>\n",
       "    </tr>\n",
       "    <tr>\n",
       "      <th>3</th>\n",
       "      <td>123 Corp</td>\n",
       "      <td>150.0</td>\n",
       "      <td>8.0</td>\n",
       "      <td>Investment</td>\n",
       "      <td>Mark Lee</td>\n",
       "      <td>450.0</td>\n",
       "      <td>32.50</td>\n",
       "      <td>Toronto</td>\n",
       "      <td>1992.0</td>\n",
       "      <td>3.0</td>\n",
       "      <td>123</td>\n",
       "      <td>NaN</td>\n",
       "    </tr>\n",
       "    <tr>\n",
       "      <th>4</th>\n",
       "      <td>Shayan Enterprises</td>\n",
       "      <td>100.0</td>\n",
       "      <td>20.0</td>\n",
       "      <td>Insurance</td>\n",
       "      <td>Unkown</td>\n",
       "      <td>700.0</td>\n",
       "      <td>25.00</td>\n",
       "      <td>Paris</td>\n",
       "      <td>1995.0</td>\n",
       "      <td>1.5</td>\n",
       "      <td>INS</td>\n",
       "      <td>200.0</td>\n",
       "    </tr>\n",
       "    <tr>\n",
       "      <th>5</th>\n",
       "      <td>TechCorp</td>\n",
       "      <td>200.0</td>\n",
       "      <td>5.0</td>\n",
       "      <td>Banking</td>\n",
       "      <td>John Doe</td>\n",
       "      <td>500.0</td>\n",
       "      <td>50.50</td>\n",
       "      <td>New York</td>\n",
       "      <td>1990.0</td>\n",
       "      <td>2.8</td>\n",
       "      <td>ABC</td>\n",
       "      <td>500.0</td>\n",
       "    </tr>\n",
       "    <tr>\n",
       "      <th>6</th>\n",
       "      <td>LMN Inc</td>\n",
       "      <td>300.0</td>\n",
       "      <td>25.0</td>\n",
       "      <td>Banking</td>\n",
       "      <td>Sarah Davis</td>\n",
       "      <td>454.0</td>\n",
       "      <td>60.00</td>\n",
       "      <td>New York</td>\n",
       "      <td>1992.0</td>\n",
       "      <td>4.0</td>\n",
       "      <td>LMN</td>\n",
       "      <td>NaN</td>\n",
       "    </tr>\n",
       "  </tbody>\n",
       "</table>\n",
       "</div>"
      ],
      "text/plain": [
       "              Company  Revenue ($M)  Profit Margin (%)    Industry  \\\n",
       "0            ABC Corp         100.0               10.0     Banking   \n",
       "1             XYZ Inc         200.0               -5.0   Insurance   \n",
       "2             PQR Ltd         175.0               10.5     Banking   \n",
       "3            123 Corp         150.0                8.0  Investment   \n",
       "4  Shayan Enterprises         100.0               20.0   Insurance   \n",
       "5            TechCorp         200.0                5.0     Banking   \n",
       "6             LMN Inc         300.0               25.0     Banking   \n",
       "\n",
       "           CEO  Employees  Stock Price   HQ City  Founded Year  \\\n",
       "0     John Doe      500.0        50.50  New York        1990.0   \n",
       "1   Jane Smith      454.0        45.25    London        1985.0   \n",
       "2   Alan Brown      120.0        40.00  New York        2000.0   \n",
       "3     Mark Lee      450.0        32.50   Toronto        1992.0   \n",
       "4       Unkown      700.0        25.00     Paris        1995.0   \n",
       "5     John Doe      500.0        50.50  New York        1990.0   \n",
       "6  Sarah Davis      454.0        60.00  New York        1992.0   \n",
       "\n",
       "   Market Cap ($B) Ticker Symbol  Debt ($M)  \n",
       "0              2.5           ABC      500.0  \n",
       "1              5.0           XYZ        NaN  \n",
       "2              1.2           N/A      300.0  \n",
       "3              3.0           123        NaN  \n",
       "4              1.5           INS      200.0  \n",
       "5              2.8           ABC      500.0  \n",
       "6              4.0           LMN        NaN  "
      ]
     },
     "execution_count": 69,
     "metadata": {},
     "output_type": "execute_result"
    }
   ],
   "source": [
    "fd"
   ]
  },
  {
   "cell_type": "markdown",
   "id": "d551ef5b-ec31-4a73-bd6d-f632740e456d",
   "metadata": {
    "jp-MarkdownHeadingCollapsed": true
   },
   "source": [
    "### Debt ($M) Column Cleaning "
   ]
  },
  {
   "cell_type": "code",
   "execution_count": 70,
   "id": "48206188-33e0-4e78-afa9-90c404618bf9",
   "metadata": {},
   "outputs": [
    {
     "data": {
      "text/plain": [
       "np.int64(3)"
      ]
     },
     "execution_count": 70,
     "metadata": {},
     "output_type": "execute_result"
    }
   ],
   "source": [
    "fd['Debt ($M)'].isnull().sum() # Checking how many null values are in the column"
   ]
  },
  {
   "cell_type": "code",
   "execution_count": 71,
   "id": "454c0a1f-e6ea-42e0-8734-db91ba5b45d2",
   "metadata": {},
   "outputs": [
    {
     "data": {
      "text/plain": [
       "array([500.,  nan, 300., 200.])"
      ]
     },
     "execution_count": 71,
     "metadata": {},
     "output_type": "execute_result"
    }
   ],
   "source": [
    "fd['Debt ($M)'].unique() # seeing unique values in the column"
   ]
  },
  {
   "cell_type": "code",
   "execution_count": 78,
   "id": "393cfd8a-bbaf-4afc-9c08-15ef67ae077c",
   "metadata": {},
   "outputs": [
    {
     "data": {
      "text/plain": [
       "0    500.0\n",
       "Name: Debt ($M), dtype: float64"
      ]
     },
     "execution_count": 78,
     "metadata": {},
     "output_type": "execute_result"
    }
   ],
   "source": [
    "fd['Debt ($M)'].mode() # finding the central tendency mode in the column"
   ]
  },
  {
   "cell_type": "code",
   "execution_count": 73,
   "id": "6c9052e8-395b-4581-8ed5-74d5106498ad",
   "metadata": {},
   "outputs": [],
   "source": [
    "fd['Debt ($M)'] = fd[\"Debt ($M)\"].fillna(500.0 # filling the null values with the mode of the columnn"
   ]
  },
  {
   "cell_type": "code",
   "execution_count": 74,
   "id": "0725f3e9-bb7c-4a09-92a2-396a2357d970",
   "metadata": {},
   "outputs": [
    {
     "data": {
      "text/html": [
       "<div>\n",
       "<style scoped>\n",
       "    .dataframe tbody tr th:only-of-type {\n",
       "        vertical-align: middle;\n",
       "    }\n",
       "\n",
       "    .dataframe tbody tr th {\n",
       "        vertical-align: top;\n",
       "    }\n",
       "\n",
       "    .dataframe thead th {\n",
       "        text-align: right;\n",
       "    }\n",
       "</style>\n",
       "<table border=\"1\" class=\"dataframe\">\n",
       "  <thead>\n",
       "    <tr style=\"text-align: right;\">\n",
       "      <th></th>\n",
       "      <th>Company</th>\n",
       "      <th>Revenue ($M)</th>\n",
       "      <th>Profit Margin (%)</th>\n",
       "      <th>Industry</th>\n",
       "      <th>CEO</th>\n",
       "      <th>Employees</th>\n",
       "      <th>Stock Price</th>\n",
       "      <th>HQ City</th>\n",
       "      <th>Founded Year</th>\n",
       "      <th>Market Cap ($B)</th>\n",
       "      <th>Ticker Symbol</th>\n",
       "      <th>Debt ($M)</th>\n",
       "    </tr>\n",
       "  </thead>\n",
       "  <tbody>\n",
       "    <tr>\n",
       "      <th>0</th>\n",
       "      <td>ABC Corp</td>\n",
       "      <td>100.0</td>\n",
       "      <td>10.0</td>\n",
       "      <td>Banking</td>\n",
       "      <td>John Doe</td>\n",
       "      <td>500.0</td>\n",
       "      <td>50.50</td>\n",
       "      <td>New York</td>\n",
       "      <td>1990.0</td>\n",
       "      <td>2.5</td>\n",
       "      <td>ABC</td>\n",
       "      <td>500.0</td>\n",
       "    </tr>\n",
       "    <tr>\n",
       "      <th>1</th>\n",
       "      <td>XYZ Inc</td>\n",
       "      <td>200.0</td>\n",
       "      <td>-5.0</td>\n",
       "      <td>Insurance</td>\n",
       "      <td>Jane Smith</td>\n",
       "      <td>454.0</td>\n",
       "      <td>45.25</td>\n",
       "      <td>London</td>\n",
       "      <td>1985.0</td>\n",
       "      <td>5.0</td>\n",
       "      <td>XYZ</td>\n",
       "      <td>500.0</td>\n",
       "    </tr>\n",
       "    <tr>\n",
       "      <th>2</th>\n",
       "      <td>PQR Ltd</td>\n",
       "      <td>175.0</td>\n",
       "      <td>10.5</td>\n",
       "      <td>Banking</td>\n",
       "      <td>Alan Brown</td>\n",
       "      <td>120.0</td>\n",
       "      <td>40.00</td>\n",
       "      <td>New York</td>\n",
       "      <td>2000.0</td>\n",
       "      <td>1.2</td>\n",
       "      <td>N/A</td>\n",
       "      <td>300.0</td>\n",
       "    </tr>\n",
       "    <tr>\n",
       "      <th>3</th>\n",
       "      <td>123 Corp</td>\n",
       "      <td>150.0</td>\n",
       "      <td>8.0</td>\n",
       "      <td>Investment</td>\n",
       "      <td>Mark Lee</td>\n",
       "      <td>450.0</td>\n",
       "      <td>32.50</td>\n",
       "      <td>Toronto</td>\n",
       "      <td>1992.0</td>\n",
       "      <td>3.0</td>\n",
       "      <td>123</td>\n",
       "      <td>500.0</td>\n",
       "    </tr>\n",
       "    <tr>\n",
       "      <th>4</th>\n",
       "      <td>Shayan Enterprises</td>\n",
       "      <td>100.0</td>\n",
       "      <td>20.0</td>\n",
       "      <td>Insurance</td>\n",
       "      <td>Unkown</td>\n",
       "      <td>700.0</td>\n",
       "      <td>25.00</td>\n",
       "      <td>Paris</td>\n",
       "      <td>1995.0</td>\n",
       "      <td>1.5</td>\n",
       "      <td>INS</td>\n",
       "      <td>200.0</td>\n",
       "    </tr>\n",
       "    <tr>\n",
       "      <th>5</th>\n",
       "      <td>TechCorp</td>\n",
       "      <td>200.0</td>\n",
       "      <td>5.0</td>\n",
       "      <td>Banking</td>\n",
       "      <td>John Doe</td>\n",
       "      <td>500.0</td>\n",
       "      <td>50.50</td>\n",
       "      <td>New York</td>\n",
       "      <td>1990.0</td>\n",
       "      <td>2.8</td>\n",
       "      <td>ABC</td>\n",
       "      <td>500.0</td>\n",
       "    </tr>\n",
       "    <tr>\n",
       "      <th>6</th>\n",
       "      <td>LMN Inc</td>\n",
       "      <td>300.0</td>\n",
       "      <td>25.0</td>\n",
       "      <td>Banking</td>\n",
       "      <td>Sarah Davis</td>\n",
       "      <td>454.0</td>\n",
       "      <td>60.00</td>\n",
       "      <td>New York</td>\n",
       "      <td>1992.0</td>\n",
       "      <td>4.0</td>\n",
       "      <td>LMN</td>\n",
       "      <td>500.0</td>\n",
       "    </tr>\n",
       "  </tbody>\n",
       "</table>\n",
       "</div>"
      ],
      "text/plain": [
       "              Company  Revenue ($M)  Profit Margin (%)    Industry  \\\n",
       "0            ABC Corp         100.0               10.0     Banking   \n",
       "1             XYZ Inc         200.0               -5.0   Insurance   \n",
       "2             PQR Ltd         175.0               10.5     Banking   \n",
       "3            123 Corp         150.0                8.0  Investment   \n",
       "4  Shayan Enterprises         100.0               20.0   Insurance   \n",
       "5            TechCorp         200.0                5.0     Banking   \n",
       "6             LMN Inc         300.0               25.0     Banking   \n",
       "\n",
       "           CEO  Employees  Stock Price   HQ City  Founded Year  \\\n",
       "0     John Doe      500.0        50.50  New York        1990.0   \n",
       "1   Jane Smith      454.0        45.25    London        1985.0   \n",
       "2   Alan Brown      120.0        40.00  New York        2000.0   \n",
       "3     Mark Lee      450.0        32.50   Toronto        1992.0   \n",
       "4       Unkown      700.0        25.00     Paris        1995.0   \n",
       "5     John Doe      500.0        50.50  New York        1990.0   \n",
       "6  Sarah Davis      454.0        60.00  New York        1992.0   \n",
       "\n",
       "   Market Cap ($B) Ticker Symbol  Debt ($M)  \n",
       "0              2.5           ABC      500.0  \n",
       "1              5.0           XYZ      500.0  \n",
       "2              1.2           N/A      300.0  \n",
       "3              3.0           123      500.0  \n",
       "4              1.5           INS      200.0  \n",
       "5              2.8           ABC      500.0  \n",
       "6              4.0           LMN      500.0  "
      ]
     },
     "execution_count": 74,
     "metadata": {},
     "output_type": "execute_result"
    }
   ],
   "source": [
    "fd"
   ]
  },
  {
   "cell_type": "code",
   "execution_count": 75,
   "id": "29e35bbf-e8d8-4965-9628-26bd319f62c6",
   "metadata": {},
   "outputs": [],
   "source": [
    "fd.to_csv(\"Clean Data.csv\",index = False) # Converting the data frane in to csv this is the clean data"
   ]
  },
  {
   "cell_type": "code",
   "execution_count": 76,
   "id": "3588d9e2-54ef-468e-b740-631240ba4551",
   "metadata": {},
   "outputs": [],
   "source": [
    "df.to_csv(\"Dirty Data.csv\",index = False) # Converting other data frame in to csv which is the dirty data or data that given us to clean"
   ]
  },
  {
   "cell_type": "code",
   "execution_count": null,
   "id": "ddd284b1-0bcb-4407-b10c-c49200ce7191",
   "metadata": {},
   "outputs": [],
   "source": []
  }
 ],
 "metadata": {
  "kernelspec": {
   "display_name": "Python 3 (ipykernel)",
   "language": "python",
   "name": "python3"
  },
  "language_info": {
   "codemirror_mode": {
    "name": "ipython",
    "version": 3
   },
   "file_extension": ".py",
   "mimetype": "text/x-python",
   "name": "python",
   "nbconvert_exporter": "python",
   "pygments_lexer": "ipython3",
   "version": "3.12.6"
  }
 },
 "nbformat": 4,
 "nbformat_minor": 5
}
